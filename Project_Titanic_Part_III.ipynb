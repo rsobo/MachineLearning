{
  "nbformat": 4,
  "nbformat_minor": 0,
  "metadata": {
    "kernelspec": {
      "display_name": "Python 3",
      "language": "python",
      "name": "python3"
    },
    "language_info": {
      "codemirror_mode": {
        "name": "ipython",
        "version": 3
      },
      "file_extension": ".py",
      "mimetype": "text/x-python",
      "name": "python",
      "nbconvert_exporter": "python",
      "pygments_lexer": "ipython3",
      "version": "3.8.3"
    },
    "nav_menu": {},
    "toc": {
      "navigate_menu": true,
      "number_sections": true,
      "sideBar": true,
      "threshold": 6,
      "toc_cell": false,
      "toc_section_display": "block",
      "toc_window_display": false
    },
    "colab": {
      "name": "Project_Titanic_Part_III.ipynb",
      "provenance": [],
      "collapsed_sections": []
    }
  },
  "cells": [
    {
      "cell_type": "markdown",
      "metadata": {
        "id": "lbOytv4mz_lx"
      },
      "source": [
        "# Project 1 - Titanic - Part III"
      ]
    },
    {
      "cell_type": "markdown",
      "metadata": {
        "id": "OAGbgOa8z_ly"
      },
      "source": [
        "The goal is to predict whether or not a passenger survived based on attributes such as their age, sex, passenger class, where they embarked and so on.\n",
        "\n",
        "## 1) Upload this jupyter notebook page to your colab\n",
        "\n",
        "\n"
      ]
    },
    {
      "cell_type": "markdown",
      "metadata": {
        "id": "pD05VVzIE_im"
      },
      "source": [
        "## 2) Get the Shareable link for your page and update the URL below for your Jupyter Notebook:\n",
        "- _Make sure you select __'Anyone with the Link'__ option_\n",
        "\n",
        "__This jupyter notebook page is located at__: https://colab.research.google.com/drive/1Iyqto_9dv4u8UQum8Y1HTh6NAPcJN1uU?usp=sharing\n",
        "We will click on the link above to visit to your Jupyter Notebook page."
      ]
    },
    {
      "cell_type": "markdown",
      "metadata": {
        "id": "wYRaIawfz_l0"
      },
      "source": [
        "## 3) Get the Data:\n",
        "### Download the data (train.csv and test.csv files) from Kaggle and then upload them using the first code block below. \n",
        "- To download the files, login to [Kaggle](https://www.kaggle.com/) and go to the [Titanic challenge](https://www.kaggle.com/c/titanic)\n"
      ]
    },
    {
      "cell_type": "markdown",
      "metadata": {
        "id": "6ucl-YDyF9yu"
      },
      "source": [
        "Keep the following code block as it is. Use it to upload the donwloaded csv files and to save them into your colab:"
      ]
    },
    {
      "cell_type": "code",
      "metadata": {
        "id": "a5Eb5SNhz_l6",
        "colab": {
          "resources": {
            "http://localhost:8080/nbextensions/google.colab/files.js": {
              "data": "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",
              "ok": true,
              "headers": [
                [
                  "content-type",
                  "application/javascript"
                ]
              ],
              "status": 200,
              "status_text": ""
            }
          },
          "base_uri": "https://localhost:8080/",
          "height": 127
        },
        "outputId": "1e04977b-7787-46f5-9602-84531dd39b12"
      },
      "source": [
        "from google.colab import files\n",
        "import pandas as pd\n",
        "import io\n",
        "import os\n",
        "\n",
        "train_data_dict = files.upload() #uploads as a disctionary and creates a file\n",
        "os.remove('train.csv') #remove the file created during upload that is in the root folder\n",
        "train_data = pd.read_csv(io.StringIO(train_data_dict['train.csv'].decode('utf-8')),sep=',') #get the data from the dictionary to the dataframe\n",
        "\n",
        "test_data_dict = files.upload() #uploads as a disctionary and creates a file\n",
        "os.remove('test.csv') #remove the file created during upload that is in the root folder\n",
        "test_data = pd.read_csv(io.StringIO(test_data_dict['test.csv'].decode('utf-8')),sep=',') #get the data from the dictionary to the dataframe\n",
        "\n",
        "titanic_dir_path = os.path.join(\"datasets\", \"titanic\")\n",
        "os.makedirs(titanic_dir_path, exist_ok=True) #create the folder\n",
        "train_csv_path = os.path.join(titanic_dir_path, \"train.csv\") #create the path for the csv file \n",
        "test_csv_path = os.path.join(titanic_dir_path, \"test.csv\") #create the path for the csv file\n",
        "\n",
        "train_data.to_csv(train_csv_path, index=False) #save the data to csv file\n",
        "test_data.to_csv(test_csv_path, index=False) #save the data to csv file"
      ],
      "execution_count": null,
      "outputs": [
        {
          "output_type": "display_data",
          "data": {
            "text/html": [
              "\n",
              "     <input type=\"file\" id=\"files-eceef63d-b47c-41c7-871c-d38f123c58ee\" name=\"files[]\" multiple disabled\n",
              "        style=\"border:none\" />\n",
              "     <output id=\"result-eceef63d-b47c-41c7-871c-d38f123c58ee\">\n",
              "      Upload widget is only available when the cell has been executed in the\n",
              "      current browser session. Please rerun this cell to enable.\n",
              "      </output>\n",
              "      <script src=\"/nbextensions/google.colab/files.js\"></script> "
            ],
            "text/plain": [
              "<IPython.core.display.HTML object>"
            ]
          },
          "metadata": {}
        },
        {
          "output_type": "stream",
          "name": "stdout",
          "text": [
            "Saving train.csv to train.csv\n"
          ]
        },
        {
          "output_type": "display_data",
          "data": {
            "text/html": [
              "\n",
              "     <input type=\"file\" id=\"files-2efed1e4-c6f5-4e88-a0c7-337d01ebb753\" name=\"files[]\" multiple disabled\n",
              "        style=\"border:none\" />\n",
              "     <output id=\"result-2efed1e4-c6f5-4e88-a0c7-337d01ebb753\">\n",
              "      Upload widget is only available when the cell has been executed in the\n",
              "      current browser session. Please rerun this cell to enable.\n",
              "      </output>\n",
              "      <script src=\"/nbextensions/google.colab/files.js\"></script> "
            ],
            "text/plain": [
              "<IPython.core.display.HTML object>"
            ]
          },
          "metadata": {}
        },
        {
          "output_type": "stream",
          "name": "stdout",
          "text": [
            "Saving test.csv to test.csv\n"
          ]
        }
      ]
    },
    {
      "cell_type": "markdown",
      "metadata": {
        "id": "9r504INxDG_1"
      },
      "source": [
        "Once you upload the data, they will be saved into the `datasets/titanic` directory. After uploading, you don't need to upload them again. You can start run your code starting the below code block."
      ]
    },
    {
      "cell_type": "code",
      "metadata": {
        "id": "Ipoqlpnxz_l8"
      },
      "source": [
        "import pandas as pd\n",
        "import os\n",
        "\n",
        "titanic_dir_path = os.path.join(\"datasets\", \"titanic\")\n",
        "train_csv_path = os.path.join(titanic_dir_path, \"train.csv\") #create the path for the csv file \n",
        "test_csv_path = os.path.join(titanic_dir_path, \"test.csv\") #create the path for the csv file\n",
        "\n",
        "train_data = pd.read_csv(train_csv_path)\n",
        "test_data = pd.read_csv(test_csv_path)\n"
      ],
      "execution_count": null,
      "outputs": []
    },
    {
      "cell_type": "markdown",
      "metadata": {
        "id": "P1KYNdEIz_l_"
      },
      "source": [
        "## __The questions under section 4 were for Part I of the project and the questions under section 5, 6, 6, and 8 were for Part II. For this assignment, you need to answer the questions under section 6__.\n",
        "\n",
        "## You can skip to 4.5, r\n",
        "\n",
        "## Discover, Visualize, Prepare Data:"
      ]
    },
    {
      "cell_type": "markdown",
      "metadata": {
        "id": "uPi2qvhJGmN3"
      },
      "source": [
        "###\t4.1) Which attributes do we have, and what are they meaning? List the attributes and then briefly explain. To get the description of the attributes, you can do a little research on the web. No code is needed to answer this question.\n",
        "-------------------------------------\n"
      ]
    },
    {
      "cell_type": "markdown",
      "metadata": {
        "id": "wyWmgm6aGm7_"
      },
      "source": [
        "### 4.2) Show your results and explain the insights you got by studying the data with each of the following methods on both the train and test data (Note: I am not looking for a long list of insights, 2-3 insights per method execution would be fine):\n"
      ]
    },
    {
      "cell_type": "markdown",
      "metadata": {
        "id": "ZuoKLarzR88P"
      },
      "source": [
        "#### 4.2.a.\thead()\n"
      ]
    },
    {
      "cell_type": "markdown",
      "metadata": {
        "id": "3tqYP2IeR_ro"
      },
      "source": [
        "#### 4.2.b.\tinfo()"
      ]
    },
    {
      "cell_type": "markdown",
      "metadata": {
        "id": "Vha7vhw5TFVm"
      },
      "source": [
        "#### 4.2.c.\tdescribe()"
      ]
    },
    {
      "cell_type": "markdown",
      "metadata": {
        "id": "2h2Jh7C9dI3U"
      },
      "source": [
        "#### 4.2.d.\tvalue_counts()"
      ]
    },
    {
      "cell_type": "markdown",
      "metadata": {
        "id": "Qm-gDdhPnsHV"
      },
      "source": [
        "### 4.3)\tPrepare a DataFrame that contains the following numeric fields: Survided, Sex, Age, SibSp, Parch, Fare. Plot these numeric fields on a histogram. Did you notice anything new using the histogram?"
      ]
    },
    {
      "cell_type": "markdown",
      "metadata": {
        "id": "h909Pm31jEwg"
      },
      "source": [
        "### 4.4) Use groupby of Pandas to answer the following questions. \n",
        "For the following examples, use group by and plot for example:\n",
        "> dataFrame.groupby(‘attribute1’)[‘attribute2’].median()\n",
        "\n",
        "> dataFrame.groupby(‘attribute1’)[‘attribute2’].median().plot(kind=’bar’)"
      ]
    },
    {
      "cell_type": "markdown",
      "metadata": {
        "id": "GjhTnoVtmUZ6"
      },
      "source": [
        "\n",
        "#### 4.4) a)\tFind the average survival rate based on passenger class and plot the results.  What is the insight you gain? \n",
        "\n"
      ]
    },
    {
      "cell_type": "markdown",
      "metadata": {
        "id": "7xLI07-BnNeZ"
      },
      "source": [
        "#### 4.4) b)\tFind the average survival rate based on sex and plot the results. What is the insight?"
      ]
    },
    {
      "cell_type": "markdown",
      "metadata": {
        "id": "cXK82TXTj4Xo"
      },
      "source": [
        "#### 4.4) c) Find the median age by Pclass and Sex."
      ]
    },
    {
      "cell_type": "markdown",
      "metadata": {
        "id": "LgTF3jyXT0CY"
      },
      "source": [
        "#### 4.4) d)\tFind out the median fare based on passenger class and embarked place. "
      ]
    },
    {
      "cell_type": "markdown",
      "metadata": {
        "id": "J7Ql5NWAWwBZ"
      },
      "source": [
        "##__4.5 includes the code (solutions) needed to start section 5.__\n",
        "\n",
        "### 4.5) Work on missing values on the whole data set. Examples:\n",
        "- https://towardsdatascience.com/machine-learning-with-the-titanic-dataset-7f6909e58280\n",
        "PDF is attached to the assignment."
      ]
    },
    {
      "cell_type": "markdown",
      "metadata": {
        "id": "psvyLl4EXwlp"
      },
      "source": [
        "#### 4.5) a) Perform the followings:\n",
        "- 1) Create a new 'all_data' frame by appending test data to train data. \n",
        "\n",
        "- 2) Using pandas methods see and show that some indexes repeat. Find a way to Use re-organize the index so that they are unique and do not have an extra 'index' column.\n",
        "\n",
        "- 3) Then check the data using the info() method and list which columns have missing data (other than 'Survived')"
      ]
    },
    {
      "cell_type": "code",
      "metadata": {
        "id": "pcCgtabYduIl",
        "colab": {
          "base_uri": "https://localhost:8080/"
        },
        "outputId": "5ba7300e-629c-4ace-a6bf-48e28ce0516c"
      },
      "source": [
        "all_data = train_data.append(test_data) # important\n",
        "all_data.reset_index(inplace = True, drop = True) # reset the inde inplace and drop the created extra 'index' column\n",
        "all_data.info()"
      ],
      "execution_count": null,
      "outputs": [
        {
          "output_type": "stream",
          "name": "stdout",
          "text": [
            "<class 'pandas.core.frame.DataFrame'>\n",
            "RangeIndex: 1309 entries, 0 to 1308\n",
            "Data columns (total 12 columns):\n",
            " #   Column       Non-Null Count  Dtype  \n",
            "---  ------       --------------  -----  \n",
            " 0   PassengerId  1309 non-null   int64  \n",
            " 1   Survived     891 non-null    float64\n",
            " 2   Pclass       1309 non-null   int64  \n",
            " 3   Name         1309 non-null   object \n",
            " 4   Sex          1309 non-null   object \n",
            " 5   Age          1046 non-null   float64\n",
            " 6   SibSp        1309 non-null   int64  \n",
            " 7   Parch        1309 non-null   int64  \n",
            " 8   Ticket       1309 non-null   object \n",
            " 9   Fare         1308 non-null   float64\n",
            " 10  Cabin        295 non-null    object \n",
            " 11  Embarked     1307 non-null   object \n",
            "dtypes: float64(3), int64(4), object(5)\n",
            "memory usage: 122.8+ KB\n"
          ]
        }
      ]
    },
    {
      "cell_type": "markdown",
      "metadata": {
        "id": "Qaay5ZK6YPZB"
      },
      "source": [
        "#### 4.5) b) Fill missing values of 'Age' field with the median age of the passenger class and sex that you found for the question above. Use the apply method with lambda function. \n"
      ]
    },
    {
      "cell_type": "code",
      "metadata": {
        "id": "0TmWACb5dwsK",
        "colab": {
          "base_uri": "https://localhost:8080/"
        },
        "outputId": "39caa6af-52a9-48dd-cbc5-43164f8122aa"
      },
      "source": [
        "# Fill in missing age information based on the median age for its class and sex.\n",
        "all_data['Age'] = all_data.groupby(['Pclass','Sex'])['Age'].apply(lambda x : x.fillna(x.median()))\n",
        "all_data.info()"
      ],
      "execution_count": null,
      "outputs": [
        {
          "output_type": "stream",
          "name": "stdout",
          "text": [
            "<class 'pandas.core.frame.DataFrame'>\n",
            "RangeIndex: 1309 entries, 0 to 1308\n",
            "Data columns (total 12 columns):\n",
            " #   Column       Non-Null Count  Dtype  \n",
            "---  ------       --------------  -----  \n",
            " 0   PassengerId  1309 non-null   int64  \n",
            " 1   Survived     891 non-null    float64\n",
            " 2   Pclass       1309 non-null   int64  \n",
            " 3   Name         1309 non-null   object \n",
            " 4   Sex          1309 non-null   object \n",
            " 5   Age          1309 non-null   float64\n",
            " 6   SibSp        1309 non-null   int64  \n",
            " 7   Parch        1309 non-null   int64  \n",
            " 8   Ticket       1309 non-null   object \n",
            " 9   Fare         1308 non-null   float64\n",
            " 10  Cabin        295 non-null    object \n",
            " 11  Embarked     1307 non-null   object \n",
            "dtypes: float64(3), int64(4), object(5)\n",
            "memory usage: 122.8+ KB\n"
          ]
        }
      ]
    },
    {
      "cell_type": "markdown",
      "metadata": {
        "id": "glJEC9N6EhqN"
      },
      "source": [
        "#### 4.5) d) Fill missing values of 'Cabin' field with the 'NA' value."
      ]
    },
    {
      "cell_type": "code",
      "metadata": {
        "id": "Q9Qmbysod1P7",
        "colab": {
          "base_uri": "https://localhost:8080/"
        },
        "outputId": "961a6e35-f2e0-48f6-db1f-82a1ebdad0f7"
      },
      "source": [
        "all_data.Cabin = all_data.Cabin.fillna('NA')\n",
        "all_data.info()"
      ],
      "execution_count": null,
      "outputs": [
        {
          "output_type": "stream",
          "name": "stdout",
          "text": [
            "<class 'pandas.core.frame.DataFrame'>\n",
            "RangeIndex: 1309 entries, 0 to 1308\n",
            "Data columns (total 12 columns):\n",
            " #   Column       Non-Null Count  Dtype  \n",
            "---  ------       --------------  -----  \n",
            " 0   PassengerId  1309 non-null   int64  \n",
            " 1   Survived     891 non-null    float64\n",
            " 2   Pclass       1309 non-null   int64  \n",
            " 3   Name         1309 non-null   object \n",
            " 4   Sex          1309 non-null   object \n",
            " 5   Age          1309 non-null   float64\n",
            " 6   SibSp        1309 non-null   int64  \n",
            " 7   Parch        1309 non-null   int64  \n",
            " 8   Ticket       1309 non-null   object \n",
            " 9   Fare         1308 non-null   float64\n",
            " 10  Cabin        1309 non-null   object \n",
            " 11  Embarked     1307 non-null   object \n",
            "dtypes: float64(3), int64(4), object(5)\n",
            "memory usage: 122.8+ KB\n"
          ]
        }
      ]
    },
    {
      "cell_type": "markdown",
      "metadata": {
        "id": "_uaurJv6EtY_"
      },
      "source": [
        "#### 4.5) e) Fill missing values of 'Embarked' field with the most frequently seen 'Embarked' value."
      ]
    },
    {
      "cell_type": "code",
      "metadata": {
        "id": "O8UwVlecd3xG",
        "colab": {
          "base_uri": "https://localhost:8080/"
        },
        "outputId": "ae48c267-2cb4-44a6-e8d7-2574f9050ea4"
      },
      "source": [
        "# Fill in missing Embarked based on the most frequent Embarked\n",
        "all_data['Embarked'].fillna(all_data['Embarked'].mode()[0], inplace = True)\n",
        "all_data.info()"
      ],
      "execution_count": null,
      "outputs": [
        {
          "output_type": "stream",
          "name": "stdout",
          "text": [
            "<class 'pandas.core.frame.DataFrame'>\n",
            "RangeIndex: 1309 entries, 0 to 1308\n",
            "Data columns (total 12 columns):\n",
            " #   Column       Non-Null Count  Dtype  \n",
            "---  ------       --------------  -----  \n",
            " 0   PassengerId  1309 non-null   int64  \n",
            " 1   Survived     891 non-null    float64\n",
            " 2   Pclass       1309 non-null   int64  \n",
            " 3   Name         1309 non-null   object \n",
            " 4   Sex          1309 non-null   object \n",
            " 5   Age          1309 non-null   float64\n",
            " 6   SibSp        1309 non-null   int64  \n",
            " 7   Parch        1309 non-null   int64  \n",
            " 8   Ticket       1309 non-null   object \n",
            " 9   Fare         1308 non-null   float64\n",
            " 10  Cabin        1309 non-null   object \n",
            " 11  Embarked     1309 non-null   object \n",
            "dtypes: float64(3), int64(4), object(5)\n",
            "memory usage: 122.8+ KB\n"
          ]
        }
      ]
    },
    {
      "cell_type": "markdown",
      "metadata": {
        "id": "UQT5yMpzWXEB"
      },
      "source": [
        "#### 4.5) c) Fill missing values of 'Fare' field with the median fare of the passenger class and embarked location that you found for the question above. Use the apply method with lambda function. "
      ]
    },
    {
      "cell_type": "code",
      "metadata": {
        "colab": {
          "base_uri": "https://localhost:8080/"
        },
        "id": "knL3sLhsWfeL",
        "outputId": "61d5f6a2-7024-4fa3-bdb3-a5f79d8606f6"
      },
      "source": [
        "# Fill in missing fare based on its class and embarked place\n",
        "all_data['Fare'] = all_data.groupby(['Pclass','Embarked'])['Fare'].apply(lambda x : x.fillna(x.median()))\n",
        "all_data.info()"
      ],
      "execution_count": null,
      "outputs": [
        {
          "output_type": "stream",
          "name": "stdout",
          "text": [
            "<class 'pandas.core.frame.DataFrame'>\n",
            "RangeIndex: 1309 entries, 0 to 1308\n",
            "Data columns (total 12 columns):\n",
            " #   Column       Non-Null Count  Dtype  \n",
            "---  ------       --------------  -----  \n",
            " 0   PassengerId  1309 non-null   int64  \n",
            " 1   Survived     891 non-null    float64\n",
            " 2   Pclass       1309 non-null   int64  \n",
            " 3   Name         1309 non-null   object \n",
            " 4   Sex          1309 non-null   object \n",
            " 5   Age          1309 non-null   float64\n",
            " 6   SibSp        1309 non-null   int64  \n",
            " 7   Parch        1309 non-null   int64  \n",
            " 8   Ticket       1309 non-null   object \n",
            " 9   Fare         1309 non-null   float64\n",
            " 10  Cabin        1309 non-null   object \n",
            " 11  Embarked     1309 non-null   object \n",
            "dtypes: float64(3), int64(4), object(5)\n",
            "memory usage: 122.8+ KB\n"
          ]
        }
      ]
    },
    {
      "cell_type": "markdown",
      "metadata": {
        "id": "aJTwrnko49a_"
      },
      "source": [
        "# Next Questions are __for Part II__. "
      ]
    },
    {
      "cell_type": "markdown",
      "metadata": {
        "id": "9gPdPAa7Fvmr"
      },
      "source": [
        "## __Feature Engineering__"
      ]
    },
    {
      "cell_type": "markdown",
      "metadata": {
        "id": "VSAEAZk2ZhtF"
      },
      "source": [
        "#### 5) 1) Create a new feature 'Family_Size'\n",
        "- Create a new feature 'Family_Size' using other features (and also adding the person him/herself to the family size). \n",
        "- Then plot a bar chart to show how many of each 'Family_Size' value exists. \n",
        "- Finally plot a bar chart to show the relationship between 'Family_Size' and the 'Survival' "
      ]
    },
    {
      "cell_type": "code",
      "metadata": {
        "id": "OMkJflwYd74r",
        "colab": {
          "base_uri": "https://localhost:8080/",
          "height": 285
        },
        "outputId": "8faac30c-ff35-43a7-9634-07f1b8ece980"
      },
      "source": [
        "# Create a new feature by adding SibSp, Parch and the person herself. \n",
        "all_data['Family_Size'] = all_data['SibSp'] + all_data['Parch'] + 1\n",
        "\n",
        "all_data['Family_Size'].value_counts().plot(kind='bar')"
      ],
      "execution_count": null,
      "outputs": [
        {
          "output_type": "execute_result",
          "data": {
            "text/plain": [
              "<matplotlib.axes._subplots.AxesSubplot at 0x7fb77ff36f90>"
            ]
          },
          "metadata": {},
          "execution_count": 71
        },
        {
          "output_type": "display_data",
          "data": {
            "image/png": "[encoded data removed]",
            "text/plain": [
              "<Figure size 432x288 with 1 Axes>"
            ]
          },
          "metadata": {
            "needs_background": "light"
          }
        }
      ]
    },
    {
      "cell_type": "code",
      "metadata": {
        "colab": {
          "base_uri": "https://localhost:8080/",
          "height": 300
        },
        "id": "uB32LOst5778",
        "outputId": "d34ec47f-5a08-42ba-b5b2-ff5322953ca5"
      },
      "source": [
        "all_data[['Family_Size','Survived']].groupby('Family_Size')['Survived'].mean().plot(kind='bar')"
      ],
      "execution_count": null,
      "outputs": [
        {
          "output_type": "execute_result",
          "data": {
            "text/plain": [
              "<matplotlib.axes._subplots.AxesSubplot at 0x7fb77ff347d0>"
            ]
          },
          "metadata": {},
          "execution_count": 73
        },
        {
          "output_type": "display_data",
          "data": {
            "image/png": "[encoded data removed]",
            "text/plain": [
              "<Figure size 432x288 with 1 Axes>"
            ]
          },
          "metadata": {
            "needs_background": "light"
          }
        }
      ]
    },
    {
      "cell_type": "markdown",
      "metadata": {
        "id": "cR1B_JwlG_x6"
      },
      "source": [
        "#### 5) 2) Create a new feature 'Fare_Category'\n",
        "- Use qcut method of Pandas for creating 'Fare_Category' field from Fare so that we have 5 categories of Fare. Note that: 1) With qcut We decompose a distribution so that there are (approximately) the same number of cases ineach category. 2) qcut returns categorical data and we need to convert it to string using astype(str). Otherwise one-hot-encoder question below might have issues.\n",
        "- Use value_counts() method to show the results. \n",
        "- Plot a bar chart to show the relationship between 'Fare_Category' and the 'Survival'"
      ]
    },
    {
      "cell_type": "code",
      "metadata": {
        "id": "01X1bStCd-qn",
        "colab": {
          "base_uri": "https://localhost:8080/"
        },
        "outputId": "082a1de4-f245-45d9-f650-9276f87d1efe"
      },
      "source": [
        "results_categorical = pd.qcut(all_data['Fare'],5)\n",
        "all_data['Fare_Category'] = pd.Series(results_categorical).astype(str)\n",
        "all_data['Fare_Category'].value_counts()"
      ],
      "execution_count": null,
      "outputs": [
        {
          "output_type": "execute_result",
          "data": {
            "text/plain": [
              "(-0.001, 7.854]      275\n",
              "(21.558, 41.579]     265\n",
              "(41.579, 512.329]    259\n",
              "(10.5, 21.558]       255\n",
              "(7.854, 10.5]        255\n",
              "Name: Fare_Category, dtype: int64"
            ]
          },
          "metadata": {},
          "execution_count": 10
        }
      ]
    },
    {
      "cell_type": "code",
      "metadata": {
        "colab": {
          "base_uri": "https://localhost:8080/"
        },
        "id": "eUA8JoVR7PI1",
        "outputId": "aa2ca9ef-201c-456e-bb09-04082e179375"
      },
      "source": [
        "all_data.info()"
      ],
      "execution_count": null,
      "outputs": [
        {
          "output_type": "stream",
          "name": "stdout",
          "text": [
            "<class 'pandas.core.frame.DataFrame'>\n",
            "RangeIndex: 1309 entries, 0 to 1308\n",
            "Data columns (total 14 columns):\n",
            " #   Column         Non-Null Count  Dtype  \n",
            "---  ------         --------------  -----  \n",
            " 0   PassengerId    1309 non-null   int64  \n",
            " 1   Survived       891 non-null    float64\n",
            " 2   Pclass         1309 non-null   int64  \n",
            " 3   Name           1309 non-null   object \n",
            " 4   Sex            1309 non-null   object \n",
            " 5   Age            1309 non-null   float64\n",
            " 6   SibSp          1309 non-null   int64  \n",
            " 7   Parch          1309 non-null   int64  \n",
            " 8   Ticket         1309 non-null   object \n",
            " 9   Fare           1309 non-null   float64\n",
            " 10  Cabin          1309 non-null   object \n",
            " 11  Embarked       1309 non-null   object \n",
            " 12  Family_Size    1309 non-null   int64  \n",
            " 13  Fare_Category  1309 non-null   object \n",
            "dtypes: float64(3), int64(5), object(6)\n",
            "memory usage: 143.3+ KB\n"
          ]
        }
      ]
    },
    {
      "cell_type": "code",
      "metadata": {
        "colab": {
          "base_uri": "https://localhost:8080/",
          "height": 378
        },
        "id": "DIw8ABie7KPq",
        "outputId": "dd6b481a-ebc6-4f5d-cc50-cc882d5b18f3"
      },
      "source": [
        "all_data[['Fare_Category','Survived']].groupby('Fare_Category')['Survived'].mean().plot(kind='bar')"
      ],
      "execution_count": null,
      "outputs": [
        {
          "output_type": "execute_result",
          "data": {
            "text/plain": [
              "<matplotlib.axes._subplots.AxesSubplot at 0x7fb79654b450>"
            ]
          },
          "metadata": {},
          "execution_count": 12
        },
        {
          "output_type": "display_data",
          "data": {
            "image/png": "[encoded data removed]",
            "text/plain": [
              "<Figure size 432x288 with 1 Axes>"
            ]
          },
          "metadata": {
            "needs_background": "light"
          }
        }
      ]
    },
    {
      "cell_type": "markdown",
      "metadata": {
        "id": "58hnI5BCHo7N"
      },
      "source": [
        "#### 5) 3) Create a new feature 'Age_Category'\n",
        "- Use cut method of Pandas for creating 'Age_Category' field from Age so that we have 5 categories of Age. Note that: 1) With cut, the bins are formed based on the values of the variable, regardless of how many cases fall into a category. 2) cut returns categorical data and we need to convert it to string using astype(str). Otherwise one-hot-encoder question below might have issues.\n",
        "\n",
        "- Use value_counts() method to show the results. \n",
        "- Plot a bar chart to show the relationship between 'Age_Category' and the 'Survival'\n"
      ]
    },
    {
      "cell_type": "code",
      "metadata": {
        "id": "L6Jk4YTEeBsm",
        "colab": {
          "base_uri": "https://localhost:8080/"
        },
        "outputId": "4ef0da56-e9e0-45dc-cfa0-5b18db583a96"
      },
      "source": [
        "results_categorical = pd.cut(all_data['Age'].astype(int),5)\n",
        "all_data['Age_Category'] = pd.Series(results_categorical).astype(str)\n",
        "all_data['Age_Category'].value_counts()"
      ],
      "execution_count": null,
      "outputs": [
        {
          "output_type": "execute_result",
          "data": {
            "text/plain": [
              "(16.0, 32.0]     752\n",
              "(32.0, 48.0]     304\n",
              "(-0.08, 16.0]    134\n",
              "(48.0, 64.0]     106\n",
              "(64.0, 80.0]      13\n",
              "Name: Age_Category, dtype: int64"
            ]
          },
          "metadata": {},
          "execution_count": 13
        }
      ]
    },
    {
      "cell_type": "code",
      "metadata": {
        "colab": {
          "base_uri": "https://localhost:8080/",
          "height": 349
        },
        "id": "oVdsZJw47o-c",
        "outputId": "0ca7ea80-3a69-4525-83b4-cb9d9288b2e2"
      },
      "source": [
        "all_data[['Age_Category','Survived']].groupby('Age_Category')['Survived'].mean().plot(kind='bar')"
      ],
      "execution_count": null,
      "outputs": [
        {
          "output_type": "execute_result",
          "data": {
            "text/plain": [
              "<matplotlib.axes._subplots.AxesSubplot at 0x7fb7964ea6d0>"
            ]
          },
          "metadata": {},
          "execution_count": 14
        },
        {
          "output_type": "display_data",
          "data": {
            "image/png": "[encoded data removed]",
            "text/plain": [
              "<Figure size 432x288 with 1 Axes>"
            ]
          },
          "metadata": {
            "needs_background": "light"
          }
        }
      ]
    },
    {
      "cell_type": "markdown",
      "metadata": {
        "id": "FHDDLP94e5HK"
      },
      "source": [
        "### 6) Encoders\n"
      ]
    },
    {
      "cell_type": "markdown",
      "metadata": {
        "id": "l_qBVUXyZahG"
      },
      "source": [
        "#### 6) 1) Using LabelEncoder, create the 'Sex_Numeric' based on the values of the 'Sex' attribute."
      ]
    },
    {
      "cell_type": "code",
      "metadata": {
        "id": "R06_YosYeE3P",
        "colab": {
          "base_uri": "https://localhost:8080/"
        },
        "outputId": "79eafd6e-2347-4586-dc94-77522eebb7a8"
      },
      "source": [
        "from sklearn.preprocessing import LabelEncoder\n",
        "all_data['Sex_Numeric'] = LabelEncoder().fit_transform(all_data['Sex'])\n",
        "all_data.info()"
      ],
      "execution_count": null,
      "outputs": [
        {
          "output_type": "stream",
          "name": "stdout",
          "text": [
            "<class 'pandas.core.frame.DataFrame'>\n",
            "RangeIndex: 1309 entries, 0 to 1308\n",
            "Data columns (total 16 columns):\n",
            " #   Column         Non-Null Count  Dtype  \n",
            "---  ------         --------------  -----  \n",
            " 0   PassengerId    1309 non-null   int64  \n",
            " 1   Survived       891 non-null    float64\n",
            " 2   Pclass         1309 non-null   int64  \n",
            " 3   Name           1309 non-null   object \n",
            " 4   Sex            1309 non-null   object \n",
            " 5   Age            1309 non-null   float64\n",
            " 6   SibSp          1309 non-null   int64  \n",
            " 7   Parch          1309 non-null   int64  \n",
            " 8   Ticket         1309 non-null   object \n",
            " 9   Fare           1309 non-null   float64\n",
            " 10  Cabin          1309 non-null   object \n",
            " 11  Embarked       1309 non-null   object \n",
            " 12  Family_Size    1309 non-null   int64  \n",
            " 13  Fare_Category  1309 non-null   object \n",
            " 14  Age_Category   1309 non-null   object \n",
            " 15  Sex_Numeric    1309 non-null   int64  \n",
            "dtypes: float64(3), int64(6), object(7)\n",
            "memory usage: 163.8+ KB\n"
          ]
        }
      ]
    },
    {
      "cell_type": "markdown",
      "metadata": {
        "id": "fsq00_8fgoSY"
      },
      "source": [
        "#### 6) 2) Use OneHotEncoder to create new attributes for the 'Embarked' attribute.\n",
        "\n",
        "Note: You can benefit from the following article for One-Hot-Encoding questions:\n",
        "- https://towardsdatascience.com/machine-learning-with-the-titanic-dataset-7f6909e58280"
      ]
    },
    {
      "cell_type": "code",
      "metadata": {
        "id": "ZxsjZjgzeHZo"
      },
      "source": [
        "from sklearn.preprocessing import OneHotEncoder\n",
        "import numpy as np\n",
        "\n",
        "def encode_category_to_numeric(feature,data_frame):\n",
        "  encoded_feat = OneHotEncoder().fit_transform(data_frame[feature].values.reshape(-1,1)).toarray()\n",
        "  #number_unique = data_frame[feature].nunique()\n",
        "  unique_values = data_frame[feature].unique()\n",
        "  sorted_unique_value = np.sort(unique_values)\n",
        "  cols = ['{}_{}'.format(feature,value) for value in sorted_unique_value]\n",
        "  encoded_data = pd.DataFrame(encoded_feat, columns=cols)\n",
        "  return encoded_data"
      ],
      "execution_count": null,
      "outputs": []
    },
    {
      "cell_type": "code",
      "metadata": {
        "colab": {
          "base_uri": "https://localhost:8080/",
          "height": 1000
        },
        "id": "DxEJWW_V7_XI",
        "outputId": "28953094-9b45-4de9-fde7-d573ff3ec1fc"
      },
      "source": [
        "encoded_data = encode_category_to_numeric('Embarked',all_data)\n",
        "all_data = pd.concat([all_data, encoded_data], axis=1)\n",
        "encoded_data.info()\n",
        "all_data.info()\n",
        "all_data.head()"
      ],
      "execution_count": null,
      "outputs": [
        {
          "output_type": "stream",
          "name": "stdout",
          "text": [
            "<class 'pandas.core.frame.DataFrame'>\n",
            "RangeIndex: 1309 entries, 0 to 1308\n",
            "Data columns (total 3 columns):\n",
            " #   Column      Non-Null Count  Dtype  \n",
            "---  ------      --------------  -----  \n",
            " 0   Embarked_C  1309 non-null   float64\n",
            " 1   Embarked_Q  1309 non-null   float64\n",
            " 2   Embarked_S  1309 non-null   float64\n",
            "dtypes: float64(3)\n",
            "memory usage: 30.8 KB\n",
            "<class 'pandas.core.frame.DataFrame'>\n",
            "RangeIndex: 1309 entries, 0 to 1308\n",
            "Data columns (total 19 columns):\n",
            " #   Column         Non-Null Count  Dtype  \n",
            "---  ------         --------------  -----  \n",
            " 0   PassengerId    1309 non-null   int64  \n",
            " 1   Survived       891 non-null    float64\n",
            " 2   Pclass         1309 non-null   int64  \n",
            " 3   Name           1309 non-null   object \n",
            " 4   Sex            1309 non-null   object \n",
            " 5   Age            1309 non-null   float64\n",
            " 6   SibSp          1309 non-null   int64  \n",
            " 7   Parch          1309 non-null   int64  \n",
            " 8   Ticket         1309 non-null   object \n",
            " 9   Fare           1309 non-null   float64\n",
            " 10  Cabin          1309 non-null   object \n",
            " 11  Embarked       1309 non-null   object \n",
            " 12  Family_Size    1309 non-null   int64  \n",
            " 13  Fare_Category  1309 non-null   object \n",
            " 14  Age_Category   1309 non-null   object \n",
            " 15  Sex_Numeric    1309 non-null   int64  \n",
            " 16  Embarked_C     1309 non-null   float64\n",
            " 17  Embarked_Q     1309 non-null   float64\n",
            " 18  Embarked_S     1309 non-null   float64\n",
            "dtypes: float64(6), int64(6), object(7)\n",
            "memory usage: 194.4+ KB\n"
          ]
        },
        {
          "output_type": "execute_result",
          "data": {
            "text/html": [
              "<div>\n",
              "<style scoped>\n",
              "    .dataframe tbody tr th:only-of-type {\n",
              "        vertical-align: middle;\n",
              "    }\n",
              "\n",
              "    .dataframe tbody tr th {\n",
              "        vertical-align: top;\n",
              "    }\n",
              "\n",
              "    .dataframe thead th {\n",
              "        text-align: right;\n",
              "    }\n",
              "</style>\n",
              "<table border=\"1\" class=\"dataframe\">\n",
              "  <thead>\n",
              "    <tr style=\"text-align: right;\">\n",
              "      <th></th>\n",
              "      <th>PassengerId</th>\n",
              "      <th>Survived</th>\n",
              "      <th>Pclass</th>\n",
              "      <th>Name</th>\n",
              "      <th>Sex</th>\n",
              "      <th>Age</th>\n",
              "      <th>SibSp</th>\n",
              "      <th>Parch</th>\n",
              "      <th>Ticket</th>\n",
              "      <th>Fare</th>\n",
              "      <th>Cabin</th>\n",
              "      <th>Embarked</th>\n",
              "      <th>Family_Size</th>\n",
              "      <th>Fare_Category</th>\n",
              "      <th>Age_Category</th>\n",
              "      <th>Sex_Numeric</th>\n",
              "      <th>Embarked_C</th>\n",
              "      <th>Embarked_Q</th>\n",
              "      <th>Embarked_S</th>\n",
              "    </tr>\n",
              "  </thead>\n",
              "  <tbody>\n",
              "    <tr>\n",
              "      <th>0</th>\n",
              "      <td>1</td>\n",
              "      <td>0.0</td>\n",
              "      <td>3</td>\n",
              "      <td>Braund, Mr. Owen Harris</td>\n",
              "      <td>male</td>\n",
              "      <td>22.0</td>\n",
              "      <td>1</td>\n",
              "      <td>0</td>\n",
              "      <td>A/5 21171</td>\n",
              "      <td>7.2500</td>\n",
              "      <td>NA</td>\n",
              "      <td>S</td>\n",
              "      <td>2</td>\n",
              "      <td>(-0.001, 7.854]</td>\n",
              "      <td>(16.0, 32.0]</td>\n",
              "      <td>1</td>\n",
              "      <td>0.0</td>\n",
              "      <td>0.0</td>\n",
              "      <td>1.0</td>\n",
              "    </tr>\n",
              "    <tr>\n",
              "      <th>1</th>\n",
              "      <td>2</td>\n",
              "      <td>1.0</td>\n",
              "      <td>1</td>\n",
              "      <td>Cumings, Mrs. John Bradley (Florence Briggs Th...</td>\n",
              "      <td>female</td>\n",
              "      <td>38.0</td>\n",
              "      <td>1</td>\n",
              "      <td>0</td>\n",
              "      <td>PC 17599</td>\n",
              "      <td>71.2833</td>\n",
              "      <td>C85</td>\n",
              "      <td>C</td>\n",
              "      <td>2</td>\n",
              "      <td>(41.579, 512.329]</td>\n",
              "      <td>(32.0, 48.0]</td>\n",
              "      <td>0</td>\n",
              "      <td>1.0</td>\n",
              "      <td>0.0</td>\n",
              "      <td>0.0</td>\n",
              "    </tr>\n",
              "    <tr>\n",
              "      <th>2</th>\n",
              "      <td>3</td>\n",
              "      <td>1.0</td>\n",
              "      <td>3</td>\n",
              "      <td>Heikkinen, Miss. Laina</td>\n",
              "      <td>female</td>\n",
              "      <td>26.0</td>\n",
              "      <td>0</td>\n",
              "      <td>0</td>\n",
              "      <td>STON/O2. 3101282</td>\n",
              "      <td>7.9250</td>\n",
              "      <td>NA</td>\n",
              "      <td>S</td>\n",
              "      <td>1</td>\n",
              "      <td>(7.854, 10.5]</td>\n",
              "      <td>(16.0, 32.0]</td>\n",
              "      <td>0</td>\n",
              "      <td>0.0</td>\n",
              "      <td>0.0</td>\n",
              "      <td>1.0</td>\n",
              "    </tr>\n",
              "    <tr>\n",
              "      <th>3</th>\n",
              "      <td>4</td>\n",
              "      <td>1.0</td>\n",
              "      <td>1</td>\n",
              "      <td>Futrelle, Mrs. Jacques Heath (Lily May Peel)</td>\n",
              "      <td>female</td>\n",
              "      <td>35.0</td>\n",
              "      <td>1</td>\n",
              "      <td>0</td>\n",
              "      <td>113803</td>\n",
              "      <td>53.1000</td>\n",
              "      <td>C123</td>\n",
              "      <td>S</td>\n",
              "      <td>2</td>\n",
              "      <td>(41.579, 512.329]</td>\n",
              "      <td>(32.0, 48.0]</td>\n",
              "      <td>0</td>\n",
              "      <td>0.0</td>\n",
              "      <td>0.0</td>\n",
              "      <td>1.0</td>\n",
              "    </tr>\n",
              "    <tr>\n",
              "      <th>4</th>\n",
              "      <td>5</td>\n",
              "      <td>0.0</td>\n",
              "      <td>3</td>\n",
              "      <td>Allen, Mr. William Henry</td>\n",
              "      <td>male</td>\n",
              "      <td>35.0</td>\n",
              "      <td>0</td>\n",
              "      <td>0</td>\n",
              "      <td>373450</td>\n",
              "      <td>8.0500</td>\n",
              "      <td>NA</td>\n",
              "      <td>S</td>\n",
              "      <td>1</td>\n",
              "      <td>(7.854, 10.5]</td>\n",
              "      <td>(32.0, 48.0]</td>\n",
              "      <td>1</td>\n",
              "      <td>0.0</td>\n",
              "      <td>0.0</td>\n",
              "      <td>1.0</td>\n",
              "    </tr>\n",
              "  </tbody>\n",
              "</table>\n",
              "</div>"
            ],
            "text/plain": [
              "   PassengerId  Survived  Pclass  ... Embarked_C Embarked_Q  Embarked_S\n",
              "0            1       0.0       3  ...        0.0        0.0         1.0\n",
              "1            2       1.0       1  ...        1.0        0.0         0.0\n",
              "2            3       1.0       3  ...        0.0        0.0         1.0\n",
              "3            4       1.0       1  ...        0.0        0.0         1.0\n",
              "4            5       0.0       3  ...        0.0        0.0         1.0\n",
              "\n",
              "[5 rows x 19 columns]"
            ]
          },
          "metadata": {},
          "execution_count": 17
        }
      ]
    },
    {
      "cell_type": "markdown",
      "metadata": {
        "id": "YRb4iOZxOSWN"
      },
      "source": [
        "#### 6) 3) Use OneHotEncoder to create new attributes for the 'Fare_Category' attribute."
      ]
    },
    {
      "cell_type": "code",
      "metadata": {
        "id": "7PgneNQ0eKQO",
        "colab": {
          "base_uri": "https://localhost:8080/",
          "height": 1244
        },
        "outputId": "f4b43866-a3b9-4aea-b677-e3e9201b77d4"
      },
      "source": [
        "encoded_data = encode_category_to_numeric('Fare_Category',all_data)\n",
        "all_data = pd.concat([all_data, encoded_data], axis=1)\n",
        "encoded_data.info()\n",
        "all_data.info()\n",
        "all_data.head()"
      ],
      "execution_count": null,
      "outputs": [
        {
          "output_type": "stream",
          "name": "stdout",
          "text": [
            "<class 'pandas.core.frame.DataFrame'>\n",
            "RangeIndex: 1309 entries, 0 to 1308\n",
            "Data columns (total 5 columns):\n",
            " #   Column                           Non-Null Count  Dtype  \n",
            "---  ------                           --------------  -----  \n",
            " 0   Fare_Category_(-0.001, 7.854]    1309 non-null   float64\n",
            " 1   Fare_Category_(10.5, 21.558]     1309 non-null   float64\n",
            " 2   Fare_Category_(21.558, 41.579]   1309 non-null   float64\n",
            " 3   Fare_Category_(41.579, 512.329]  1309 non-null   float64\n",
            " 4   Fare_Category_(7.854, 10.5]      1309 non-null   float64\n",
            "dtypes: float64(5)\n",
            "memory usage: 51.3 KB\n",
            "<class 'pandas.core.frame.DataFrame'>\n",
            "RangeIndex: 1309 entries, 0 to 1308\n",
            "Data columns (total 24 columns):\n",
            " #   Column                           Non-Null Count  Dtype  \n",
            "---  ------                           --------------  -----  \n",
            " 0   PassengerId                      1309 non-null   int64  \n",
            " 1   Survived                         891 non-null    float64\n",
            " 2   Pclass                           1309 non-null   int64  \n",
            " 3   Name                             1309 non-null   object \n",
            " 4   Sex                              1309 non-null   object \n",
            " 5   Age                              1309 non-null   float64\n",
            " 6   SibSp                            1309 non-null   int64  \n",
            " 7   Parch                            1309 non-null   int64  \n",
            " 8   Ticket                           1309 non-null   object \n",
            " 9   Fare                             1309 non-null   float64\n",
            " 10  Cabin                            1309 non-null   object \n",
            " 11  Embarked                         1309 non-null   object \n",
            " 12  Family_Size                      1309 non-null   int64  \n",
            " 13  Fare_Category                    1309 non-null   object \n",
            " 14  Age_Category                     1309 non-null   object \n",
            " 15  Sex_Numeric                      1309 non-null   int64  \n",
            " 16  Embarked_C                       1309 non-null   float64\n",
            " 17  Embarked_Q                       1309 non-null   float64\n",
            " 18  Embarked_S                       1309 non-null   float64\n",
            " 19  Fare_Category_(-0.001, 7.854]    1309 non-null   float64\n",
            " 20  Fare_Category_(10.5, 21.558]     1309 non-null   float64\n",
            " 21  Fare_Category_(21.558, 41.579]   1309 non-null   float64\n",
            " 22  Fare_Category_(41.579, 512.329]  1309 non-null   float64\n",
            " 23  Fare_Category_(7.854, 10.5]      1309 non-null   float64\n",
            "dtypes: float64(11), int64(6), object(7)\n",
            "memory usage: 245.6+ KB\n"
          ]
        },
        {
          "output_type": "execute_result",
          "data": {
            "text/html": [
              "<div>\n",
              "<style scoped>\n",
              "    .dataframe tbody tr th:only-of-type {\n",
              "        vertical-align: middle;\n",
              "    }\n",
              "\n",
              "    .dataframe tbody tr th {\n",
              "        vertical-align: top;\n",
              "    }\n",
              "\n",
              "    .dataframe thead th {\n",
              "        text-align: right;\n",
              "    }\n",
              "</style>\n",
              "<table border=\"1\" class=\"dataframe\">\n",
              "  <thead>\n",
              "    <tr style=\"text-align: right;\">\n",
              "      <th></th>\n",
              "      <th>PassengerId</th>\n",
              "      <th>Survived</th>\n",
              "      <th>Pclass</th>\n",
              "      <th>Name</th>\n",
              "      <th>Sex</th>\n",
              "      <th>Age</th>\n",
              "      <th>SibSp</th>\n",
              "      <th>Parch</th>\n",
              "      <th>Ticket</th>\n",
              "      <th>Fare</th>\n",
              "      <th>Cabin</th>\n",
              "      <th>Embarked</th>\n",
              "      <th>Family_Size</th>\n",
              "      <th>Fare_Category</th>\n",
              "      <th>Age_Category</th>\n",
              "      <th>Sex_Numeric</th>\n",
              "      <th>Embarked_C</th>\n",
              "      <th>Embarked_Q</th>\n",
              "      <th>Embarked_S</th>\n",
              "      <th>Fare_Category_(-0.001, 7.854]</th>\n",
              "      <th>Fare_Category_(10.5, 21.558]</th>\n",
              "      <th>Fare_Category_(21.558, 41.579]</th>\n",
              "      <th>Fare_Category_(41.579, 512.329]</th>\n",
              "      <th>Fare_Category_(7.854, 10.5]</th>\n",
              "    </tr>\n",
              "  </thead>\n",
              "  <tbody>\n",
              "    <tr>\n",
              "      <th>0</th>\n",
              "      <td>1</td>\n",
              "      <td>0.0</td>\n",
              "      <td>3</td>\n",
              "      <td>Braund, Mr. Owen Harris</td>\n",
              "      <td>male</td>\n",
              "      <td>22.0</td>\n",
              "      <td>1</td>\n",
              "      <td>0</td>\n",
              "      <td>A/5 21171</td>\n",
              "      <td>7.2500</td>\n",
              "      <td>NA</td>\n",
              "      <td>S</td>\n",
              "      <td>2</td>\n",
              "      <td>(-0.001, 7.854]</td>\n",
              "      <td>(16.0, 32.0]</td>\n",
              "      <td>1</td>\n",
              "      <td>0.0</td>\n",
              "      <td>0.0</td>\n",
              "      <td>1.0</td>\n",
              "      <td>1.0</td>\n",
              "      <td>0.0</td>\n",
              "      <td>0.0</td>\n",
              "      <td>0.0</td>\n",
              "      <td>0.0</td>\n",
              "    </tr>\n",
              "    <tr>\n",
              "      <th>1</th>\n",
              "      <td>2</td>\n",
              "      <td>1.0</td>\n",
              "      <td>1</td>\n",
              "      <td>Cumings, Mrs. John Bradley (Florence Briggs Th...</td>\n",
              "      <td>female</td>\n",
              "      <td>38.0</td>\n",
              "      <td>1</td>\n",
              "      <td>0</td>\n",
              "      <td>PC 17599</td>\n",
              "      <td>71.2833</td>\n",
              "      <td>C85</td>\n",
              "      <td>C</td>\n",
              "      <td>2</td>\n",
              "      <td>(41.579, 512.329]</td>\n",
              "      <td>(32.0, 48.0]</td>\n",
              "      <td>0</td>\n",
              "      <td>1.0</td>\n",
              "      <td>0.0</td>\n",
              "      <td>0.0</td>\n",
              "      <td>0.0</td>\n",
              "      <td>0.0</td>\n",
              "      <td>0.0</td>\n",
              "      <td>1.0</td>\n",
              "      <td>0.0</td>\n",
              "    </tr>\n",
              "    <tr>\n",
              "      <th>2</th>\n",
              "      <td>3</td>\n",
              "      <td>1.0</td>\n",
              "      <td>3</td>\n",
              "      <td>Heikkinen, Miss. Laina</td>\n",
              "      <td>female</td>\n",
              "      <td>26.0</td>\n",
              "      <td>0</td>\n",
              "      <td>0</td>\n",
              "      <td>STON/O2. 3101282</td>\n",
              "      <td>7.9250</td>\n",
              "      <td>NA</td>\n",
              "      <td>S</td>\n",
              "      <td>1</td>\n",
              "      <td>(7.854, 10.5]</td>\n",
              "      <td>(16.0, 32.0]</td>\n",
              "      <td>0</td>\n",
              "      <td>0.0</td>\n",
              "      <td>0.0</td>\n",
              "      <td>1.0</td>\n",
              "      <td>0.0</td>\n",
              "      <td>0.0</td>\n",
              "      <td>0.0</td>\n",
              "      <td>0.0</td>\n",
              "      <td>1.0</td>\n",
              "    </tr>\n",
              "    <tr>\n",
              "      <th>3</th>\n",
              "      <td>4</td>\n",
              "      <td>1.0</td>\n",
              "      <td>1</td>\n",
              "      <td>Futrelle, Mrs. Jacques Heath (Lily May Peel)</td>\n",
              "      <td>female</td>\n",
              "      <td>35.0</td>\n",
              "      <td>1</td>\n",
              "      <td>0</td>\n",
              "      <td>113803</td>\n",
              "      <td>53.1000</td>\n",
              "      <td>C123</td>\n",
              "      <td>S</td>\n",
              "      <td>2</td>\n",
              "      <td>(41.579, 512.329]</td>\n",
              "      <td>(32.0, 48.0]</td>\n",
              "      <td>0</td>\n",
              "      <td>0.0</td>\n",
              "      <td>0.0</td>\n",
              "      <td>1.0</td>\n",
              "      <td>0.0</td>\n",
              "      <td>0.0</td>\n",
              "      <td>0.0</td>\n",
              "      <td>1.0</td>\n",
              "      <td>0.0</td>\n",
              "    </tr>\n",
              "    <tr>\n",
              "      <th>4</th>\n",
              "      <td>5</td>\n",
              "      <td>0.0</td>\n",
              "      <td>3</td>\n",
              "      <td>Allen, Mr. William Henry</td>\n",
              "      <td>male</td>\n",
              "      <td>35.0</td>\n",
              "      <td>0</td>\n",
              "      <td>0</td>\n",
              "      <td>373450</td>\n",
              "      <td>8.0500</td>\n",
              "      <td>NA</td>\n",
              "      <td>S</td>\n",
              "      <td>1</td>\n",
              "      <td>(7.854, 10.5]</td>\n",
              "      <td>(32.0, 48.0]</td>\n",
              "      <td>1</td>\n",
              "      <td>0.0</td>\n",
              "      <td>0.0</td>\n",
              "      <td>1.0</td>\n",
              "      <td>0.0</td>\n",
              "      <td>0.0</td>\n",
              "      <td>0.0</td>\n",
              "      <td>0.0</td>\n",
              "      <td>1.0</td>\n",
              "    </tr>\n",
              "  </tbody>\n",
              "</table>\n",
              "</div>"
            ],
            "text/plain": [
              "   PassengerId  ...  Fare_Category_(7.854, 10.5]\n",
              "0            1  ...                          0.0\n",
              "1            2  ...                          0.0\n",
              "2            3  ...                          1.0\n",
              "3            4  ...                          0.0\n",
              "4            5  ...                          1.0\n",
              "\n",
              "[5 rows x 24 columns]"
            ]
          },
          "metadata": {},
          "execution_count": 18
        }
      ]
    },
    {
      "cell_type": "markdown",
      "metadata": {
        "id": "BommJmQ9Oeqq"
      },
      "source": [
        "#### 6) 4) Use OneHotEncoder to create new attributes for the 'Age_Category' attribute."
      ]
    },
    {
      "cell_type": "code",
      "metadata": {
        "id": "W5oIZNFEb4ka",
        "colab": {
          "base_uri": "https://localhost:8080/"
        },
        "outputId": "29bfcb7b-e19b-41a1-d128-5ab32c9fe41f"
      },
      "source": [
        "encoded_data = encode_category_to_numeric('Age_Category',all_data)\n",
        "all_data = pd.concat([all_data, encoded_data], axis=1)\n",
        "encoded_data.info()"
      ],
      "execution_count": null,
      "outputs": [
        {
          "output_type": "stream",
          "name": "stdout",
          "text": [
            "<class 'pandas.core.frame.DataFrame'>\n",
            "RangeIndex: 1309 entries, 0 to 1308\n",
            "Data columns (total 5 columns):\n",
            " #   Column                      Non-Null Count  Dtype  \n",
            "---  ------                      --------------  -----  \n",
            " 0   Age_Category_(-0.08, 16.0]  1309 non-null   float64\n",
            " 1   Age_Category_(16.0, 32.0]   1309 non-null   float64\n",
            " 2   Age_Category_(32.0, 48.0]   1309 non-null   float64\n",
            " 3   Age_Category_(48.0, 64.0]   1309 non-null   float64\n",
            " 4   Age_Category_(64.0, 80.0]   1309 non-null   float64\n",
            "dtypes: float64(5)\n",
            "memory usage: 51.3 KB\n"
          ]
        }
      ]
    },
    {
      "cell_type": "code",
      "metadata": {
        "colab": {
          "base_uri": "https://localhost:8080/"
        },
        "id": "guLoelio8yR2",
        "outputId": "8d9291cd-1ee3-48df-f5e7-03517e3d942e"
      },
      "source": [
        "all_data.info()"
      ],
      "execution_count": null,
      "outputs": [
        {
          "output_type": "stream",
          "name": "stdout",
          "text": [
            "<class 'pandas.core.frame.DataFrame'>\n",
            "RangeIndex: 1309 entries, 0 to 1308\n",
            "Data columns (total 29 columns):\n",
            " #   Column                           Non-Null Count  Dtype  \n",
            "---  ------                           --------------  -----  \n",
            " 0   PassengerId                      1309 non-null   int64  \n",
            " 1   Survived                         891 non-null    float64\n",
            " 2   Pclass                           1309 non-null   int64  \n",
            " 3   Name                             1309 non-null   object \n",
            " 4   Sex                              1309 non-null   object \n",
            " 5   Age                              1309 non-null   float64\n",
            " 6   SibSp                            1309 non-null   int64  \n",
            " 7   Parch                            1309 non-null   int64  \n",
            " 8   Ticket                           1309 non-null   object \n",
            " 9   Fare                             1309 non-null   float64\n",
            " 10  Cabin                            1309 non-null   object \n",
            " 11  Embarked                         1309 non-null   object \n",
            " 12  Family_Size                      1309 non-null   int64  \n",
            " 13  Fare_Category                    1309 non-null   object \n",
            " 14  Age_Category                     1309 non-null   object \n",
            " 15  Sex_Numeric                      1309 non-null   int64  \n",
            " 16  Embarked_C                       1309 non-null   float64\n",
            " 17  Embarked_Q                       1309 non-null   float64\n",
            " 18  Embarked_S                       1309 non-null   float64\n",
            " 19  Fare_Category_(-0.001, 7.854]    1309 non-null   float64\n",
            " 20  Fare_Category_(10.5, 21.558]     1309 non-null   float64\n",
            " 21  Fare_Category_(21.558, 41.579]   1309 non-null   float64\n",
            " 22  Fare_Category_(41.579, 512.329]  1309 non-null   float64\n",
            " 23  Fare_Category_(7.854, 10.5]      1309 non-null   float64\n",
            " 24  Age_Category_(-0.08, 16.0]       1309 non-null   float64\n",
            " 25  Age_Category_(16.0, 32.0]        1309 non-null   float64\n",
            " 26  Age_Category_(32.0, 48.0]        1309 non-null   float64\n",
            " 27  Age_Category_(48.0, 64.0]        1309 non-null   float64\n",
            " 28  Age_Category_(64.0, 80.0]        1309 non-null   float64\n",
            "dtypes: float64(16), int64(6), object(7)\n",
            "memory usage: 296.7+ KB\n"
          ]
        }
      ]
    },
    {
      "cell_type": "markdown",
      "metadata": {
        "id": "KLc3aws3bft0"
      },
      "source": [
        "#### 6) 5) Use OneHotEncoder to create new attributes for the 'PClass' attribute."
      ]
    },
    {
      "cell_type": "code",
      "metadata": {
        "id": "aeqPavl4eNMo",
        "colab": {
          "base_uri": "https://localhost:8080/"
        },
        "outputId": "2a24cfed-3a52-434f-e270-ccc6d7f932cb"
      },
      "source": [
        "encoded_data = encode_category_to_numeric('Pclass',all_data)\n",
        "all_data = pd.concat([all_data, encoded_data], axis=1)\n",
        "all_data.info()"
      ],
      "execution_count": null,
      "outputs": [
        {
          "output_type": "stream",
          "name": "stdout",
          "text": [
            "<class 'pandas.core.frame.DataFrame'>\n",
            "RangeIndex: 1309 entries, 0 to 1308\n",
            "Data columns (total 32 columns):\n",
            " #   Column                           Non-Null Count  Dtype  \n",
            "---  ------                           --------------  -----  \n",
            " 0   PassengerId                      1309 non-null   int64  \n",
            " 1   Survived                         891 non-null    float64\n",
            " 2   Pclass                           1309 non-null   int64  \n",
            " 3   Name                             1309 non-null   object \n",
            " 4   Sex                              1309 non-null   object \n",
            " 5   Age                              1309 non-null   float64\n",
            " 6   SibSp                            1309 non-null   int64  \n",
            " 7   Parch                            1309 non-null   int64  \n",
            " 8   Ticket                           1309 non-null   object \n",
            " 9   Fare                             1309 non-null   float64\n",
            " 10  Cabin                            1309 non-null   object \n",
            " 11  Embarked                         1309 non-null   object \n",
            " 12  Family_Size                      1309 non-null   int64  \n",
            " 13  Fare_Category                    1309 non-null   object \n",
            " 14  Age_Category                     1309 non-null   object \n",
            " 15  Sex_Numeric                      1309 non-null   int64  \n",
            " 16  Embarked_C                       1309 non-null   float64\n",
            " 17  Embarked_Q                       1309 non-null   float64\n",
            " 18  Embarked_S                       1309 non-null   float64\n",
            " 19  Fare_Category_(-0.001, 7.854]    1309 non-null   float64\n",
            " 20  Fare_Category_(10.5, 21.558]     1309 non-null   float64\n",
            " 21  Fare_Category_(21.558, 41.579]   1309 non-null   float64\n",
            " 22  Fare_Category_(41.579, 512.329]  1309 non-null   float64\n",
            " 23  Fare_Category_(7.854, 10.5]      1309 non-null   float64\n",
            " 24  Age_Category_(-0.08, 16.0]       1309 non-null   float64\n",
            " 25  Age_Category_(16.0, 32.0]        1309 non-null   float64\n",
            " 26  Age_Category_(32.0, 48.0]        1309 non-null   float64\n",
            " 27  Age_Category_(48.0, 64.0]        1309 non-null   float64\n",
            " 28  Age_Category_(64.0, 80.0]        1309 non-null   float64\n",
            " 29  Pclass_1                         1309 non-null   float64\n",
            " 30  Pclass_2                         1309 non-null   float64\n",
            " 31  Pclass_3                         1309 non-null   float64\n",
            "dtypes: float64(19), int64(6), object(7)\n",
            "memory usage: 327.4+ KB\n"
          ]
        }
      ]
    },
    {
      "cell_type": "markdown",
      "metadata": {
        "id": "UG2vKYPT50XG"
      },
      "source": [
        "### 6) 6) Convert 'Sex_Numeric' and 'Family_Size' fields to 'float16'."
      ]
    },
    {
      "cell_type": "code",
      "metadata": {
        "colab": {
          "base_uri": "https://localhost:8080/"
        },
        "id": "RZE5WoLO9t-e",
        "outputId": "1d3d19ff-a63f-4368-dc67-83c396c433ed"
      },
      "source": [
        "all_data['Sex_Numeric'] = all_data['Sex_Numeric'].astype(np.float16)\n",
        "all_data['Family_Size'] = all_data['Family_Size'].astype(np.float16)\n",
        "all_data.info()"
      ],
      "execution_count": null,
      "outputs": [
        {
          "output_type": "stream",
          "name": "stdout",
          "text": [
            "<class 'pandas.core.frame.DataFrame'>\n",
            "RangeIndex: 1309 entries, 0 to 1308\n",
            "Data columns (total 32 columns):\n",
            " #   Column                           Non-Null Count  Dtype  \n",
            "---  ------                           --------------  -----  \n",
            " 0   PassengerId                      1309 non-null   int64  \n",
            " 1   Survived                         891 non-null    float64\n",
            " 2   Pclass                           1309 non-null   int64  \n",
            " 3   Name                             1309 non-null   object \n",
            " 4   Sex                              1309 non-null   object \n",
            " 5   Age                              1309 non-null   float64\n",
            " 6   SibSp                            1309 non-null   int64  \n",
            " 7   Parch                            1309 non-null   int64  \n",
            " 8   Ticket                           1309 non-null   object \n",
            " 9   Fare                             1309 non-null   float64\n",
            " 10  Cabin                            1309 non-null   object \n",
            " 11  Embarked                         1309 non-null   object \n",
            " 12  Family_Size                      1309 non-null   float16\n",
            " 13  Fare_Category                    1309 non-null   object \n",
            " 14  Age_Category                     1309 non-null   object \n",
            " 15  Sex_Numeric                      1309 non-null   float16\n",
            " 16  Embarked_C                       1309 non-null   float64\n",
            " 17  Embarked_Q                       1309 non-null   float64\n",
            " 18  Embarked_S                       1309 non-null   float64\n",
            " 19  Fare_Category_(-0.001, 7.854]    1309 non-null   float64\n",
            " 20  Fare_Category_(10.5, 21.558]     1309 non-null   float64\n",
            " 21  Fare_Category_(21.558, 41.579]   1309 non-null   float64\n",
            " 22  Fare_Category_(41.579, 512.329]  1309 non-null   float64\n",
            " 23  Fare_Category_(7.854, 10.5]      1309 non-null   float64\n",
            " 24  Age_Category_(-0.08, 16.0]       1309 non-null   float64\n",
            " 25  Age_Category_(16.0, 32.0]        1309 non-null   float64\n",
            " 26  Age_Category_(32.0, 48.0]        1309 non-null   float64\n",
            " 27  Age_Category_(48.0, 64.0]        1309 non-null   float64\n",
            " 28  Age_Category_(64.0, 80.0]        1309 non-null   float64\n",
            " 29  Pclass_1                         1309 non-null   float64\n",
            " 30  Pclass_2                         1309 non-null   float64\n",
            " 31  Pclass_3                         1309 non-null   float64\n",
            "dtypes: float16(2), float64(19), int64(4), object(7)\n",
            "memory usage: 312.0+ KB\n"
          ]
        }
      ]
    },
    {
      "cell_type": "markdown",
      "metadata": {
        "id": "mEVq4omFypA5"
      },
      "source": [
        "### 7) 1) Create the correlation matrix for the all_data data frame and show the values for 'Survived' column in an descending order."
      ]
    },
    {
      "cell_type": "code",
      "metadata": {
        "id": "JBoyga8ZeRWv",
        "colab": {
          "base_uri": "https://localhost:8080/"
        },
        "outputId": "18f71808-ecf0-4d1d-f94e-12fd8fce90ce"
      },
      "source": [
        "corr_matrix = all_data.corr()\n",
        "corr_matrix[\"Survived\"].sort_values(ascending=False)"
      ],
      "execution_count": null,
      "outputs": [
        {
          "output_type": "execute_result",
          "data": {
            "text/plain": [
              "Survived                           1.000000\n",
              "Pclass_1                           0.285904\n",
              "Fare_Category_(41.579, 512.329]    0.263007\n",
              "Fare                               0.257307\n",
              "Embarked_C                         0.168240\n",
              "Age_Category_(-0.08, 16.0]         0.121485\n",
              "Pclass_2                           0.093349\n",
              "Parch                              0.081629\n",
              "Fare_Category_(21.558, 41.579]     0.062529\n",
              "Fare_Category_(10.5, 21.558]       0.043153\n",
              "Age_Category_(32.0, 48.0]          0.032801\n",
              "Age_Category_(48.0, 64.0]          0.030350\n",
              "Family_Size                        0.016639\n",
              "Embarked_Q                         0.003650\n",
              "PassengerId                       -0.005007\n",
              "SibSp                             -0.035322\n",
              "Age                               -0.058635\n",
              "Age_Category_(64.0, 80.0]         -0.067344\n",
              "Age_Category_(16.0, 32.0]         -0.106821\n",
              "Embarked_S                        -0.149683\n",
              "Fare_Category_(-0.001, 7.854]     -0.171109\n",
              "Fare_Category_(7.854, 10.5]       -0.191707\n",
              "Pclass_3                          -0.322308\n",
              "Pclass                            -0.338481\n",
              "Sex_Numeric                       -0.543351\n",
              "Name: Survived, dtype: float64"
            ]
          },
          "metadata": {},
          "execution_count": 23
        }
      ]
    },
    {
      "cell_type": "markdown",
      "metadata": {
        "id": "rHxNEmH6cRIg"
      },
      "source": [
        "### 7) 2) Based on the correlation matrix results, identify some of the features as unimportant and drop them and assign the remaining DataFrame to the variable named 'important_data'. When you drop features, leave at least 10 columns besides 'Survivided' in the 'important_data' DataFrame. After that, check the correlation to 'Survived' as you did before."
      ]
    },
    {
      "cell_type": "code",
      "metadata": {
        "id": "N10rU2b_dN67"
      },
      "source": [
        "# drop the unimportant colums and leave at least 10 columns besides 'Survivided'\n",
        "drop_columns = ['Name', 'Sex', 'Age', 'Cabin', 'Embarked', 'Ticket', \n",
        "                'Embarked_Q', 'Family_Size', 'Fare_Category', \n",
        "                'Age_Category','Age_Category_(48.0, 64.0]', 'Age_Category_(32.0, 48.0]', \n",
        "                'SibSp', 'Age', 'Age_Category_(64.0, 80.0]', \n",
        "                'Fare_Category_(10.5, 21.558]', 'Fare_Category_(21.558, 41.579]', 'Parch']"
      ],
      "execution_count": null,
      "outputs": []
    },
    {
      "cell_type": "code",
      "metadata": {
        "colab": {
          "base_uri": "https://localhost:8080/"
        },
        "id": "3qQf0qnY_EfQ",
        "outputId": "e31ed370-cfc1-4f9f-c5fa-af0e9633dad7"
      },
      "source": [
        "important_data = all_data.drop(columns = drop_columns)\n",
        "important_data.info()"
      ],
      "execution_count": null,
      "outputs": [
        {
          "output_type": "stream",
          "name": "stdout",
          "text": [
            "<class 'pandas.core.frame.DataFrame'>\n",
            "RangeIndex: 1309 entries, 0 to 1308\n",
            "Data columns (total 15 columns):\n",
            " #   Column                           Non-Null Count  Dtype  \n",
            "---  ------                           --------------  -----  \n",
            " 0   PassengerId                      1309 non-null   int64  \n",
            " 1   Survived                         891 non-null    float64\n",
            " 2   Pclass                           1309 non-null   int64  \n",
            " 3   Fare                             1309 non-null   float64\n",
            " 4   Sex_Numeric                      1309 non-null   float16\n",
            " 5   Embarked_C                       1309 non-null   float64\n",
            " 6   Embarked_S                       1309 non-null   float64\n",
            " 7   Fare_Category_(-0.001, 7.854]    1309 non-null   float64\n",
            " 8   Fare_Category_(41.579, 512.329]  1309 non-null   float64\n",
            " 9   Fare_Category_(7.854, 10.5]      1309 non-null   float64\n",
            " 10  Age_Category_(-0.08, 16.0]       1309 non-null   float64\n",
            " 11  Age_Category_(16.0, 32.0]        1309 non-null   float64\n",
            " 12  Pclass_1                         1309 non-null   float64\n",
            " 13  Pclass_2                         1309 non-null   float64\n",
            " 14  Pclass_3                         1309 non-null   float64\n",
            "dtypes: float16(1), float64(12), int64(2)\n",
            "memory usage: 145.9 KB\n"
          ]
        }
      ]
    },
    {
      "cell_type": "code",
      "metadata": {
        "colab": {
          "base_uri": "https://localhost:8080/"
        },
        "id": "ELxAuqnU_Rpf",
        "outputId": "6e5ea13e-262e-4b37-93b0-ea6ab50fd3cb"
      },
      "source": [
        "corr_matrix = important_data.corr()\n",
        "corr_matrix[\"Survived\"].sort_values(ascending=False)"
      ],
      "execution_count": null,
      "outputs": [
        {
          "output_type": "execute_result",
          "data": {
            "text/plain": [
              "Survived                           1.000000\n",
              "Pclass_1                           0.285904\n",
              "Fare_Category_(41.579, 512.329]    0.263007\n",
              "Fare                               0.257307\n",
              "Embarked_C                         0.168240\n",
              "Age_Category_(-0.08, 16.0]         0.121485\n",
              "Pclass_2                           0.093349\n",
              "PassengerId                       -0.005007\n",
              "Age_Category_(16.0, 32.0]         -0.106821\n",
              "Embarked_S                        -0.149683\n",
              "Fare_Category_(-0.001, 7.854]     -0.171109\n",
              "Fare_Category_(7.854, 10.5]       -0.191707\n",
              "Pclass_3                          -0.322308\n",
              "Pclass                            -0.338481\n",
              "Sex_Numeric                       -0.543351\n",
              "Name: Survived, dtype: float64"
            ]
          },
          "metadata": {},
          "execution_count": 26
        }
      ]
    },
    {
      "cell_type": "markdown",
      "metadata": {
        "id": "LLRva8Hacnzx"
      },
      "source": [
        "### 8) 1) Create X_train, Y_train and X_test DataFrames. Note that X_train should have 891 instances and the rest should go to X_test. Drop the 'Survived' from X_test. Check the X_train, X_test and Y_train."
      ]
    },
    {
      "cell_type": "code",
      "metadata": {
        "id": "-fa3p2k8dOew"
      },
      "source": [
        "X_train = important_data.loc[:890].drop(['Survived'], axis = 1)\n",
        "Y_train = important_data.loc[:890]['Survived'].values\n",
        "X_test = important_data.loc[891:].drop(['Survived'], axis = 1)"
      ],
      "execution_count": null,
      "outputs": []
    },
    {
      "cell_type": "code",
      "metadata": {
        "colab": {
          "base_uri": "https://localhost:8080/"
        },
        "id": "sWVOe-H2_nva",
        "outputId": "4d828ffa-4e11-4d61-e035-4fdd6e023710"
      },
      "source": [
        "X_train.info()"
      ],
      "execution_count": null,
      "outputs": [
        {
          "output_type": "stream",
          "name": "stdout",
          "text": [
            "<class 'pandas.core.frame.DataFrame'>\n",
            "RangeIndex: 891 entries, 0 to 890\n",
            "Data columns (total 14 columns):\n",
            " #   Column                           Non-Null Count  Dtype  \n",
            "---  ------                           --------------  -----  \n",
            " 0   PassengerId                      891 non-null    int64  \n",
            " 1   Pclass                           891 non-null    int64  \n",
            " 2   Fare                             891 non-null    float64\n",
            " 3   Sex_Numeric                      891 non-null    float16\n",
            " 4   Embarked_C                       891 non-null    float64\n",
            " 5   Embarked_S                       891 non-null    float64\n",
            " 6   Fare_Category_(-0.001, 7.854]    891 non-null    float64\n",
            " 7   Fare_Category_(41.579, 512.329]  891 non-null    float64\n",
            " 8   Fare_Category_(7.854, 10.5]      891 non-null    float64\n",
            " 9   Age_Category_(-0.08, 16.0]       891 non-null    float64\n",
            " 10  Age_Category_(16.0, 32.0]        891 non-null    float64\n",
            " 11  Pclass_1                         891 non-null    float64\n",
            " 12  Pclass_2                         891 non-null    float64\n",
            " 13  Pclass_3                         891 non-null    float64\n",
            "dtypes: float16(1), float64(11), int64(2)\n",
            "memory usage: 92.4 KB\n"
          ]
        }
      ]
    },
    {
      "cell_type": "code",
      "metadata": {
        "colab": {
          "base_uri": "https://localhost:8080/"
        },
        "id": "x7_skmNK_7Fx",
        "outputId": "9cdd63ff-f41b-4fad-a34e-9c4105446f11"
      },
      "source": [
        "Y_train"
      ],
      "execution_count": null,
      "outputs": [
        {
          "output_type": "execute_result",
          "data": {
            "text/plain": [
              "array([0., 1., 1., 1., 0., 0., 0., 0., 1., 1., 1., 1., 0., 0., 0., 1., 0.,\n",
              "       1., 0., 1., 0., 1., 1., 1., 0., 1., 0., 0., 1., 0., 0., 1., 1., 0.,\n",
              "       0., 0., 1., 0., 0., 1., 0., 0., 0., 1., 1., 0., 0., 1., 0., 0., 0.,\n",
              "       0., 1., 1., 0., 1., 1., 0., 1., 0., 0., 1., 0., 0., 0., 1., 1., 0.,\n",
              "       1., 0., 0., 0., 0., 0., 1., 0., 0., 0., 1., 1., 0., 1., 1., 0., 1.,\n",
              "       1., 0., 0., 1., 0., 0., 0., 0., 0., 0., 0., 0., 1., 1., 0., 0., 0.,\n",
              "       0., 0., 0., 0., 1., 1., 0., 1., 0., 0., 0., 0., 0., 0., 0., 0., 0.,\n",
              "       0., 0., 0., 0., 1., 0., 1., 0., 1., 1., 0., 0., 0., 0., 1., 0., 0.,\n",
              "       1., 0., 0., 0., 0., 1., 1., 0., 0., 0., 1., 0., 0., 0., 0., 1., 0.,\n",
              "       0., 0., 0., 1., 0., 0., 0., 0., 1., 0., 0., 0., 1., 1., 0., 0., 0.,\n",
              "       0., 0., 1., 0., 0., 0., 0., 0., 0., 0., 0., 0., 0., 1., 1., 0., 1.,\n",
              "       1., 0., 0., 1., 0., 1., 1., 1., 1., 0., 0., 1., 0., 0., 0., 0., 0.,\n",
              "       1., 0., 0., 1., 1., 1., 0., 1., 0., 0., 0., 1., 1., 0., 1., 0., 1.,\n",
              "       0., 0., 0., 1., 0., 1., 0., 0., 0., 1., 0., 0., 1., 0., 0., 0., 1.,\n",
              "       0., 0., 0., 1., 0., 0., 0., 0., 0., 1., 1., 0., 0., 0., 0., 0., 0.,\n",
              "       1., 1., 1., 1., 1., 0., 1., 0., 0., 0., 0., 0., 1., 1., 1., 0., 1.,\n",
              "       1., 0., 1., 1., 0., 0., 0., 1., 0., 0., 0., 1., 0., 0., 1., 0., 1.,\n",
              "       1., 1., 1., 0., 0., 0., 0., 0., 0., 1., 1., 1., 1., 0., 1., 0., 1.,\n",
              "       1., 1., 0., 1., 1., 1., 0., 0., 0., 1., 1., 0., 1., 1., 0., 0., 1.,\n",
              "       1., 0., 1., 0., 1., 1., 1., 1., 0., 0., 0., 1., 0., 0., 1., 1., 0.,\n",
              "       1., 1., 0., 0., 0., 1., 1., 1., 1., 0., 0., 0., 0., 0., 0., 0., 1.,\n",
              "       0., 1., 1., 0., 0., 0., 0., 0., 0., 1., 1., 1., 1., 1., 0., 0., 0.,\n",
              "       0., 1., 1., 0., 0., 0., 1., 1., 0., 1., 0., 0., 0., 1., 0., 1., 1.,\n",
              "       1., 0., 1., 1., 0., 0., 0., 0., 1., 1., 0., 0., 0., 0., 0., 0., 1.,\n",
              "       0., 0., 0., 0., 1., 0., 1., 0., 1., 1., 0., 0., 0., 0., 0., 0., 0.,\n",
              "       0., 1., 1., 0., 1., 1., 1., 1., 0., 0., 1., 0., 1., 0., 0., 1., 0.,\n",
              "       0., 1., 1., 1., 1., 1., 1., 1., 0., 0., 0., 1., 0., 1., 0., 1., 1.,\n",
              "       0., 1., 0., 0., 0., 0., 0., 0., 0., 0., 1., 0., 0., 1., 1., 0., 0.,\n",
              "       0., 0., 0., 1., 0., 0., 0., 1., 1., 0., 1., 0., 0., 1., 0., 0., 0.,\n",
              "       0., 0., 0., 1., 0., 0., 0., 0., 0., 0., 0., 1., 0., 1., 1., 0., 1.,\n",
              "       1., 0., 1., 1., 0., 0., 1., 0., 1., 0., 1., 0., 0., 1., 0., 0., 1.,\n",
              "       0., 0., 0., 1., 0., 0., 1., 0., 1., 0., 1., 0., 1., 1., 0., 0., 1.,\n",
              "       0., 0., 1., 1., 0., 1., 1., 0., 0., 1., 1., 0., 1., 0., 1., 1., 0.,\n",
              "       0., 0., 0., 0., 0., 0., 0., 0., 1., 1., 1., 1., 1., 0., 0., 1., 1.,\n",
              "       0., 1., 1., 1., 0., 0., 0., 1., 0., 1., 0., 0., 0., 1., 0., 0., 0.,\n",
              "       0., 1., 0., 0., 1., 1., 0., 0., 0., 1., 0., 0., 1., 1., 1., 0., 0.,\n",
              "       1., 0., 0., 1., 0., 0., 1., 0., 0., 1., 1., 0., 0., 0., 0., 1., 0.,\n",
              "       0., 1., 0., 1., 0., 0., 1., 0., 0., 0., 0., 0., 1., 0., 1., 1., 1.,\n",
              "       0., 1., 0., 1., 0., 1., 0., 1., 0., 0., 0., 0., 0., 0., 1., 0., 0.,\n",
              "       0., 1., 0., 0., 0., 0., 1., 1., 0., 0., 1., 0., 0., 0., 1., 0., 1.,\n",
              "       0., 1., 0., 0., 0., 0., 0., 0., 0., 1., 1., 1., 1., 0., 0., 0., 0.,\n",
              "       1., 0., 0., 1., 1., 0., 0., 0., 0., 1., 1., 1., 1., 1., 0., 1., 0.,\n",
              "       0., 0., 1., 1., 0., 0., 1., 0., 0., 0., 1., 0., 1., 1., 0., 0., 1.,\n",
              "       0., 0., 0., 0., 0., 0., 1., 0., 0., 1., 0., 1., 0., 1., 0., 0., 1.,\n",
              "       0., 0., 1., 1., 0., 0., 1., 1., 0., 0., 0., 1., 0., 0., 1., 1., 0.,\n",
              "       1., 0., 0., 0., 0., 0., 0., 0., 0., 1., 0., 0., 1., 0., 1., 1., 1.,\n",
              "       0., 0., 0., 0., 1., 0., 1., 0., 0., 0., 0., 0., 0., 0., 1., 1., 0.,\n",
              "       0., 0., 1., 1., 1., 1., 0., 0., 0., 0., 1., 0., 0., 0., 0., 0., 0.,\n",
              "       0., 0., 0., 0., 1., 1., 0., 1., 0., 0., 0., 1., 1., 1., 1., 1., 0.,\n",
              "       0., 0., 1., 0., 0., 1., 1., 0., 0., 1., 0., 0., 0., 0., 0., 0., 1.,\n",
              "       0., 0., 0., 1., 0., 1., 1., 1., 1., 0., 0., 0., 1., 0., 0., 1., 1.,\n",
              "       0., 0., 1., 0., 1., 0., 0., 1., 1., 0., 0., 0., 1., 1., 0., 0., 0.,\n",
              "       0., 0., 0., 1., 0., 1., 0.])"
            ]
          },
          "metadata": {},
          "execution_count": 29
        }
      ]
    },
    {
      "cell_type": "code",
      "metadata": {
        "colab": {
          "base_uri": "https://localhost:8080/"
        },
        "id": "21Ws5hG4__2f",
        "outputId": "83bfdb51-03d0-4a85-fafc-7b921b6fde57"
      },
      "source": [
        "X_test.info()"
      ],
      "execution_count": null,
      "outputs": [
        {
          "output_type": "stream",
          "name": "stdout",
          "text": [
            "<class 'pandas.core.frame.DataFrame'>\n",
            "RangeIndex: 418 entries, 891 to 1308\n",
            "Data columns (total 14 columns):\n",
            " #   Column                           Non-Null Count  Dtype  \n",
            "---  ------                           --------------  -----  \n",
            " 0   PassengerId                      418 non-null    int64  \n",
            " 1   Pclass                           418 non-null    int64  \n",
            " 2   Fare                             418 non-null    float64\n",
            " 3   Sex_Numeric                      418 non-null    float16\n",
            " 4   Embarked_C                       418 non-null    float64\n",
            " 5   Embarked_S                       418 non-null    float64\n",
            " 6   Fare_Category_(-0.001, 7.854]    418 non-null    float64\n",
            " 7   Fare_Category_(41.579, 512.329]  418 non-null    float64\n",
            " 8   Fare_Category_(7.854, 10.5]      418 non-null    float64\n",
            " 9   Age_Category_(-0.08, 16.0]       418 non-null    float64\n",
            " 10  Age_Category_(16.0, 32.0]        418 non-null    float64\n",
            " 11  Pclass_1                         418 non-null    float64\n",
            " 12  Pclass_2                         418 non-null    float64\n",
            " 13  Pclass_3                         418 non-null    float64\n",
            "dtypes: float16(1), float64(11), int64(2)\n",
            "memory usage: 43.4 KB\n"
          ]
        }
      ]
    },
    {
      "cell_type": "code",
      "metadata": {
        "colab": {
          "base_uri": "https://localhost:8080/",
          "height": 241
        },
        "id": "8Vs2MgsOAEzN",
        "outputId": "bd69d6ef-3ee0-4873-f4d8-e3b83762121d"
      },
      "source": [
        "X_train.head()"
      ],
      "execution_count": null,
      "outputs": [
        {
          "output_type": "execute_result",
          "data": {
            "text/html": [
              "<div>\n",
              "<style scoped>\n",
              "    .dataframe tbody tr th:only-of-type {\n",
              "        vertical-align: middle;\n",
              "    }\n",
              "\n",
              "    .dataframe tbody tr th {\n",
              "        vertical-align: top;\n",
              "    }\n",
              "\n",
              "    .dataframe thead th {\n",
              "        text-align: right;\n",
              "    }\n",
              "</style>\n",
              "<table border=\"1\" class=\"dataframe\">\n",
              "  <thead>\n",
              "    <tr style=\"text-align: right;\">\n",
              "      <th></th>\n",
              "      <th>PassengerId</th>\n",
              "      <th>Pclass</th>\n",
              "      <th>Fare</th>\n",
              "      <th>Sex_Numeric</th>\n",
              "      <th>Embarked_C</th>\n",
              "      <th>Embarked_S</th>\n",
              "      <th>Fare_Category_(-0.001, 7.854]</th>\n",
              "      <th>Fare_Category_(41.579, 512.329]</th>\n",
              "      <th>Fare_Category_(7.854, 10.5]</th>\n",
              "      <th>Age_Category_(-0.08, 16.0]</th>\n",
              "      <th>Age_Category_(16.0, 32.0]</th>\n",
              "      <th>Pclass_1</th>\n",
              "      <th>Pclass_2</th>\n",
              "      <th>Pclass_3</th>\n",
              "    </tr>\n",
              "  </thead>\n",
              "  <tbody>\n",
              "    <tr>\n",
              "      <th>0</th>\n",
              "      <td>1</td>\n",
              "      <td>3</td>\n",
              "      <td>7.2500</td>\n",
              "      <td>1.0</td>\n",
              "      <td>0.0</td>\n",
              "      <td>1.0</td>\n",
              "      <td>1.0</td>\n",
              "      <td>0.0</td>\n",
              "      <td>0.0</td>\n",
              "      <td>0.0</td>\n",
              "      <td>1.0</td>\n",
              "      <td>0.0</td>\n",
              "      <td>0.0</td>\n",
              "      <td>1.0</td>\n",
              "    </tr>\n",
              "    <tr>\n",
              "      <th>1</th>\n",
              "      <td>2</td>\n",
              "      <td>1</td>\n",
              "      <td>71.2833</td>\n",
              "      <td>0.0</td>\n",
              "      <td>1.0</td>\n",
              "      <td>0.0</td>\n",
              "      <td>0.0</td>\n",
              "      <td>1.0</td>\n",
              "      <td>0.0</td>\n",
              "      <td>0.0</td>\n",
              "      <td>0.0</td>\n",
              "      <td>1.0</td>\n",
              "      <td>0.0</td>\n",
              "      <td>0.0</td>\n",
              "    </tr>\n",
              "    <tr>\n",
              "      <th>2</th>\n",
              "      <td>3</td>\n",
              "      <td>3</td>\n",
              "      <td>7.9250</td>\n",
              "      <td>0.0</td>\n",
              "      <td>0.0</td>\n",
              "      <td>1.0</td>\n",
              "      <td>0.0</td>\n",
              "      <td>0.0</td>\n",
              "      <td>1.0</td>\n",
              "      <td>0.0</td>\n",
              "      <td>1.0</td>\n",
              "      <td>0.0</td>\n",
              "      <td>0.0</td>\n",
              "      <td>1.0</td>\n",
              "    </tr>\n",
              "    <tr>\n",
              "      <th>3</th>\n",
              "      <td>4</td>\n",
              "      <td>1</td>\n",
              "      <td>53.1000</td>\n",
              "      <td>0.0</td>\n",
              "      <td>0.0</td>\n",
              "      <td>1.0</td>\n",
              "      <td>0.0</td>\n",
              "      <td>1.0</td>\n",
              "      <td>0.0</td>\n",
              "      <td>0.0</td>\n",
              "      <td>0.0</td>\n",
              "      <td>1.0</td>\n",
              "      <td>0.0</td>\n",
              "      <td>0.0</td>\n",
              "    </tr>\n",
              "    <tr>\n",
              "      <th>4</th>\n",
              "      <td>5</td>\n",
              "      <td>3</td>\n",
              "      <td>8.0500</td>\n",
              "      <td>1.0</td>\n",
              "      <td>0.0</td>\n",
              "      <td>1.0</td>\n",
              "      <td>0.0</td>\n",
              "      <td>0.0</td>\n",
              "      <td>1.0</td>\n",
              "      <td>0.0</td>\n",
              "      <td>0.0</td>\n",
              "      <td>0.0</td>\n",
              "      <td>0.0</td>\n",
              "      <td>1.0</td>\n",
              "    </tr>\n",
              "  </tbody>\n",
              "</table>\n",
              "</div>"
            ],
            "text/plain": [
              "   PassengerId  Pclass     Fare  ...  Pclass_1  Pclass_2  Pclass_3\n",
              "0            1       3   7.2500  ...       0.0       0.0       1.0\n",
              "1            2       1  71.2833  ...       1.0       0.0       0.0\n",
              "2            3       3   7.9250  ...       0.0       0.0       1.0\n",
              "3            4       1  53.1000  ...       1.0       0.0       0.0\n",
              "4            5       3   8.0500  ...       0.0       0.0       1.0\n",
              "\n",
              "[5 rows x 14 columns]"
            ]
          },
          "metadata": {},
          "execution_count": 31
        }
      ]
    },
    {
      "cell_type": "markdown",
      "metadata": {
        "id": "sRjcbfk6dDqo"
      },
      "source": [
        "### 8) 2) Use StandardScaler of Scikit Learn to scale the 'Fare' feature of both X_train and X_test. "
      ]
    },
    {
      "cell_type": "code",
      "metadata": {
        "id": "qpkHVGZmdP6t"
      },
      "source": [
        "from sklearn.preprocessing import StandardScaler\n",
        "X_train['Fare'] = pd.DataFrame(data = StandardScaler().fit_transform( pd.DataFrame(X_train['Fare']) ), \n",
        "                       columns = ['Fare'], \n",
        "                       index = X_train.index)"
      ],
      "execution_count": null,
      "outputs": []
    },
    {
      "cell_type": "code",
      "metadata": {
        "colab": {
          "base_uri": "https://localhost:8080/",
          "height": 241
        },
        "id": "XNbcPbSJAS7L",
        "outputId": "a4ee45cd-f5c8-4624-9abb-f9f7b242f2c0"
      },
      "source": [
        "X_train.head()"
      ],
      "execution_count": null,
      "outputs": [
        {
          "output_type": "execute_result",
          "data": {
            "text/html": [
              "<div>\n",
              "<style scoped>\n",
              "    .dataframe tbody tr th:only-of-type {\n",
              "        vertical-align: middle;\n",
              "    }\n",
              "\n",
              "    .dataframe tbody tr th {\n",
              "        vertical-align: top;\n",
              "    }\n",
              "\n",
              "    .dataframe thead th {\n",
              "        text-align: right;\n",
              "    }\n",
              "</style>\n",
              "<table border=\"1\" class=\"dataframe\">\n",
              "  <thead>\n",
              "    <tr style=\"text-align: right;\">\n",
              "      <th></th>\n",
              "      <th>PassengerId</th>\n",
              "      <th>Pclass</th>\n",
              "      <th>Fare</th>\n",
              "      <th>Sex_Numeric</th>\n",
              "      <th>Embarked_C</th>\n",
              "      <th>Embarked_S</th>\n",
              "      <th>Fare_Category_(-0.001, 7.854]</th>\n",
              "      <th>Fare_Category_(41.579, 512.329]</th>\n",
              "      <th>Fare_Category_(7.854, 10.5]</th>\n",
              "      <th>Age_Category_(-0.08, 16.0]</th>\n",
              "      <th>Age_Category_(16.0, 32.0]</th>\n",
              "      <th>Pclass_1</th>\n",
              "      <th>Pclass_2</th>\n",
              "      <th>Pclass_3</th>\n",
              "    </tr>\n",
              "  </thead>\n",
              "  <tbody>\n",
              "    <tr>\n",
              "      <th>0</th>\n",
              "      <td>1</td>\n",
              "      <td>3</td>\n",
              "      <td>-0.502445</td>\n",
              "      <td>1.0</td>\n",
              "      <td>0.0</td>\n",
              "      <td>1.0</td>\n",
              "      <td>1.0</td>\n",
              "      <td>0.0</td>\n",
              "      <td>0.0</td>\n",
              "      <td>0.0</td>\n",
              "      <td>1.0</td>\n",
              "      <td>0.0</td>\n",
              "      <td>0.0</td>\n",
              "      <td>1.0</td>\n",
              "    </tr>\n",
              "    <tr>\n",
              "      <th>1</th>\n",
              "      <td>2</td>\n",
              "      <td>1</td>\n",
              "      <td>0.786845</td>\n",
              "      <td>0.0</td>\n",
              "      <td>1.0</td>\n",
              "      <td>0.0</td>\n",
              "      <td>0.0</td>\n",
              "      <td>1.0</td>\n",
              "      <td>0.0</td>\n",
              "      <td>0.0</td>\n",
              "      <td>0.0</td>\n",
              "      <td>1.0</td>\n",
              "      <td>0.0</td>\n",
              "      <td>0.0</td>\n",
              "    </tr>\n",
              "    <tr>\n",
              "      <th>2</th>\n",
              "      <td>3</td>\n",
              "      <td>3</td>\n",
              "      <td>-0.488854</td>\n",
              "      <td>0.0</td>\n",
              "      <td>0.0</td>\n",
              "      <td>1.0</td>\n",
              "      <td>0.0</td>\n",
              "      <td>0.0</td>\n",
              "      <td>1.0</td>\n",
              "      <td>0.0</td>\n",
              "      <td>1.0</td>\n",
              "      <td>0.0</td>\n",
              "      <td>0.0</td>\n",
              "      <td>1.0</td>\n",
              "    </tr>\n",
              "    <tr>\n",
              "      <th>3</th>\n",
              "      <td>4</td>\n",
              "      <td>1</td>\n",
              "      <td>0.420730</td>\n",
              "      <td>0.0</td>\n",
              "      <td>0.0</td>\n",
              "      <td>1.0</td>\n",
              "      <td>0.0</td>\n",
              "      <td>1.0</td>\n",
              "      <td>0.0</td>\n",
              "      <td>0.0</td>\n",
              "      <td>0.0</td>\n",
              "      <td>1.0</td>\n",
              "      <td>0.0</td>\n",
              "      <td>0.0</td>\n",
              "    </tr>\n",
              "    <tr>\n",
              "      <th>4</th>\n",
              "      <td>5</td>\n",
              "      <td>3</td>\n",
              "      <td>-0.486337</td>\n",
              "      <td>1.0</td>\n",
              "      <td>0.0</td>\n",
              "      <td>1.0</td>\n",
              "      <td>0.0</td>\n",
              "      <td>0.0</td>\n",
              "      <td>1.0</td>\n",
              "      <td>0.0</td>\n",
              "      <td>0.0</td>\n",
              "      <td>0.0</td>\n",
              "      <td>0.0</td>\n",
              "      <td>1.0</td>\n",
              "    </tr>\n",
              "  </tbody>\n",
              "</table>\n",
              "</div>"
            ],
            "text/plain": [
              "   PassengerId  Pclass      Fare  ...  Pclass_1  Pclass_2  Pclass_3\n",
              "0            1       3 -0.502445  ...       0.0       0.0       1.0\n",
              "1            2       1  0.786845  ...       1.0       0.0       0.0\n",
              "2            3       3 -0.488854  ...       0.0       0.0       1.0\n",
              "3            4       1  0.420730  ...       1.0       0.0       0.0\n",
              "4            5       3 -0.486337  ...       0.0       0.0       1.0\n",
              "\n",
              "[5 rows x 14 columns]"
            ]
          },
          "metadata": {},
          "execution_count": 33
        }
      ]
    },
    {
      "cell_type": "code",
      "metadata": {
        "colab": {
          "base_uri": "https://localhost:8080/",
          "height": 241
        },
        "id": "yZYJO62ZAoJL",
        "outputId": "b20b17ad-7555-428c-f84a-64619be0ecc3"
      },
      "source": [
        "X_test['Fare'] = pd.DataFrame(data = StandardScaler().fit_transform( pd.DataFrame(X_test['Fare']) ), \n",
        "                       columns = ['Fare'], \n",
        "                       index = X_test.index)\n",
        "X_test.head()"
      ],
      "execution_count": null,
      "outputs": [
        {
          "output_type": "execute_result",
          "data": {
            "text/html": [
              "<div>\n",
              "<style scoped>\n",
              "    .dataframe tbody tr th:only-of-type {\n",
              "        vertical-align: middle;\n",
              "    }\n",
              "\n",
              "    .dataframe tbody tr th {\n",
              "        vertical-align: top;\n",
              "    }\n",
              "\n",
              "    .dataframe thead th {\n",
              "        text-align: right;\n",
              "    }\n",
              "</style>\n",
              "<table border=\"1\" class=\"dataframe\">\n",
              "  <thead>\n",
              "    <tr style=\"text-align: right;\">\n",
              "      <th></th>\n",
              "      <th>PassengerId</th>\n",
              "      <th>Pclass</th>\n",
              "      <th>Fare</th>\n",
              "      <th>Sex_Numeric</th>\n",
              "      <th>Embarked_C</th>\n",
              "      <th>Embarked_S</th>\n",
              "      <th>Fare_Category_(-0.001, 7.854]</th>\n",
              "      <th>Fare_Category_(41.579, 512.329]</th>\n",
              "      <th>Fare_Category_(7.854, 10.5]</th>\n",
              "      <th>Age_Category_(-0.08, 16.0]</th>\n",
              "      <th>Age_Category_(16.0, 32.0]</th>\n",
              "      <th>Pclass_1</th>\n",
              "      <th>Pclass_2</th>\n",
              "      <th>Pclass_3</th>\n",
              "    </tr>\n",
              "  </thead>\n",
              "  <tbody>\n",
              "    <tr>\n",
              "      <th>891</th>\n",
              "      <td>892</td>\n",
              "      <td>3</td>\n",
              "      <td>-0.497079</td>\n",
              "      <td>1.0</td>\n",
              "      <td>0.0</td>\n",
              "      <td>0.0</td>\n",
              "      <td>1.0</td>\n",
              "      <td>0.0</td>\n",
              "      <td>0.0</td>\n",
              "      <td>0.0</td>\n",
              "      <td>0.0</td>\n",
              "      <td>0.0</td>\n",
              "      <td>0.0</td>\n",
              "      <td>1.0</td>\n",
              "    </tr>\n",
              "    <tr>\n",
              "      <th>892</th>\n",
              "      <td>893</td>\n",
              "      <td>3</td>\n",
              "      <td>-0.511942</td>\n",
              "      <td>0.0</td>\n",
              "      <td>0.0</td>\n",
              "      <td>1.0</td>\n",
              "      <td>1.0</td>\n",
              "      <td>0.0</td>\n",
              "      <td>0.0</td>\n",
              "      <td>0.0</td>\n",
              "      <td>0.0</td>\n",
              "      <td>0.0</td>\n",
              "      <td>0.0</td>\n",
              "      <td>1.0</td>\n",
              "    </tr>\n",
              "    <tr>\n",
              "      <th>893</th>\n",
              "      <td>894</td>\n",
              "      <td>2</td>\n",
              "      <td>-0.463770</td>\n",
              "      <td>1.0</td>\n",
              "      <td>0.0</td>\n",
              "      <td>0.0</td>\n",
              "      <td>0.0</td>\n",
              "      <td>0.0</td>\n",
              "      <td>1.0</td>\n",
              "      <td>0.0</td>\n",
              "      <td>0.0</td>\n",
              "      <td>0.0</td>\n",
              "      <td>1.0</td>\n",
              "      <td>0.0</td>\n",
              "    </tr>\n",
              "    <tr>\n",
              "      <th>894</th>\n",
              "      <td>895</td>\n",
              "      <td>3</td>\n",
              "      <td>-0.482143</td>\n",
              "      <td>1.0</td>\n",
              "      <td>0.0</td>\n",
              "      <td>1.0</td>\n",
              "      <td>0.0</td>\n",
              "      <td>0.0</td>\n",
              "      <td>1.0</td>\n",
              "      <td>0.0</td>\n",
              "      <td>1.0</td>\n",
              "      <td>0.0</td>\n",
              "      <td>0.0</td>\n",
              "      <td>1.0</td>\n",
              "    </tr>\n",
              "    <tr>\n",
              "      <th>895</th>\n",
              "      <td>896</td>\n",
              "      <td>3</td>\n",
              "      <td>-0.417167</td>\n",
              "      <td>0.0</td>\n",
              "      <td>0.0</td>\n",
              "      <td>1.0</td>\n",
              "      <td>0.0</td>\n",
              "      <td>0.0</td>\n",
              "      <td>0.0</td>\n",
              "      <td>0.0</td>\n",
              "      <td>1.0</td>\n",
              "      <td>0.0</td>\n",
              "      <td>0.0</td>\n",
              "      <td>1.0</td>\n",
              "    </tr>\n",
              "  </tbody>\n",
              "</table>\n",
              "</div>"
            ],
            "text/plain": [
              "     PassengerId  Pclass      Fare  ...  Pclass_1  Pclass_2  Pclass_3\n",
              "891          892       3 -0.497079  ...       0.0       0.0       1.0\n",
              "892          893       3 -0.511942  ...       0.0       0.0       1.0\n",
              "893          894       2 -0.463770  ...       0.0       1.0       0.0\n",
              "894          895       3 -0.482143  ...       0.0       0.0       1.0\n",
              "895          896       3 -0.417167  ...       0.0       0.0       1.0\n",
              "\n",
              "[5 rows x 14 columns]"
            ]
          },
          "metadata": {},
          "execution_count": 34
        }
      ]
    },
    {
      "cell_type": "markdown",
      "metadata": {
        "id": "ozzPXGvnuVQO"
      },
      "source": [
        "### 9) 1) For each of the algorithms, use Scikit-Learn's cross-validation feature to measure the performance and print out mean and std for each algoritm:\n",
        "\n",
        "1. Stochastic Gradient Descent (SGD)\n",
        "2. LogisticRegression\n",
        "3. Support Vector Machine (kernel='linear' parameter)\n",
        "4. Support Vector Machine (kernel = 'rbf' parameter)\n",
        "5. DecisionTreeClassifier\n",
        "6. RandomForestClassifier\n",
        "7. ExtraTreesClassifier\n",
        "8. AdaBoostClassifier\n",
        "9. GradientBoostingClassifier\n",
        "10. XGBoost\n",
        "-- You can import XGBoost library as follows:  \"from xgboost import XGBClassifier\"\n",
        "\n",
        "Parameters:\n",
        "- Set the scoring parameter of cross-validation to 'f1'\n",
        "- Use the default cv = 5 parameter of cross-validation\n",
        "- Use random_state = 42 for initializing model algorithms\n",
        "- Use the kernel parameter indicated above for SVM algorithms\n",
        "- For others, use the default parameters (no need to specify explicitly)\n"
      ]
    },
    {
      "cell_type": "code",
      "metadata": {
        "id": "RfTMfTvZulhK",
        "colab": {
          "base_uri": "https://localhost:8080/"
        },
        "outputId": "bb900ae9-6b47-42a6-81d2-aa7f14812888"
      },
      "source": [
        "from sklearn.linear_model import SGDClassifier\n",
        "from sklearn.model_selection import cross_val_score\n",
        "X = X_train\n",
        "Y = Y_train\n",
        "clf = SGDClassifier(loss=\"hinge\", penalty=\"l2\", max_iter=100)\n",
        "clf.fit(X, Y)\n",
        "SGDClassifier(max_iter=100)\n",
        "scores = cross_val_score(clf, X, Y, cv=5)\n",
        "scores\n",
        "print(\"%0.2f accuracy with a standard deviation of %0.2f\" % (scores.mean(), scores.std()))"
      ],
      "execution_count": null,
      "outputs": [
        {
          "output_type": "stream",
          "name": "stdout",
          "text": [
            "0.48 accuracy with a standard deviation of 0.12\n"
          ]
        }
      ]
    },
    {
      "cell_type": "code",
      "metadata": {
        "colab": {
          "base_uri": "https://localhost:8080/"
        },
        "id": "3QheLo_99gNI",
        "outputId": "25b6677d-ba6e-4b64-df40-12cbcc5ec5ea"
      },
      "source": [
        "from sklearn.linear_model import LogisticRegression\n",
        "logisticRegr = LogisticRegression(max_iter = 600)\n",
        "clf = logisticRegr.fit(X, Y)\n",
        "clf.fit(X,Y)\n",
        "scores = cross_val_score(clf, X, Y, cv=5)\n",
        "print(\"%0.2f accuracy with a standard deviation of %0.2f\" % (scores.mean(), scores.std()))"
      ],
      "execution_count": null,
      "outputs": [
        {
          "output_type": "stream",
          "name": "stdout",
          "text": [
            "0.78 accuracy with a standard deviation of 0.02\n"
          ]
        }
      ]
    },
    {
      "cell_type": "code",
      "metadata": {
        "colab": {
          "base_uri": "https://localhost:8080/"
        },
        "id": "PU4WnTfj9k5z",
        "outputId": "98e28aba-82bd-4333-8e4c-34ca8e8bd7aa"
      },
      "source": [
        "from sklearn import svm\n",
        "clf = svm.SVC(kernel='linear')\n",
        "clf.fit(X, Y)\n",
        "scores = cross_val_score(clf, X, Y, cv=5)\n",
        "print(\"%0.2f accuracy with a standard deviation of %0.2f\" % (scores.mean(), scores.std()))"
      ],
      "execution_count": null,
      "outputs": [
        {
          "output_type": "stream",
          "name": "stdout",
          "text": [
            "0.79 accuracy with a standard deviation of 0.02\n"
          ]
        }
      ]
    },
    {
      "cell_type": "code",
      "metadata": {
        "colab": {
          "base_uri": "https://localhost:8080/"
        },
        "id": "t8-Qh34B9uwE",
        "outputId": "155b0297-773c-4359-9083-a874fa9f878d"
      },
      "source": [
        "clf = svm.SVC(kernel='rbf')\n",
        "clf.fit(X, Y)\n",
        "scores = cross_val_score(clf, X, Y, cv=5)\n",
        "print(\"%0.2f accuracy with a standard deviation of %0.2f\" % (scores.mean(), scores.std()))"
      ],
      "execution_count": null,
      "outputs": [
        {
          "output_type": "stream",
          "name": "stdout",
          "text": [
            "0.62 accuracy with a standard deviation of 0.00\n"
          ]
        }
      ]
    },
    {
      "cell_type": "code",
      "metadata": {
        "colab": {
          "base_uri": "https://localhost:8080/"
        },
        "id": "-biYcjDk9xy9",
        "outputId": "7be72290-f29f-46b6-f0af-18e84e60e38c"
      },
      "source": [
        "from sklearn.tree import DecisionTreeClassifier\n",
        "clf = DecisionTreeClassifier(random_state=0)\n",
        "clf.fit(X,Y)\n",
        "scores = cross_val_score(clf, X, Y, cv=5)\n",
        "print(\"%0.2f accuracy with a standard deviation of %0.2f\" % (scores.mean(), scores.std()))"
      ],
      "execution_count": null,
      "outputs": [
        {
          "output_type": "stream",
          "name": "stdout",
          "text": [
            "0.74 accuracy with a standard deviation of 0.10\n"
          ]
        }
      ]
    },
    {
      "cell_type": "code",
      "metadata": {
        "colab": {
          "base_uri": "https://localhost:8080/"
        },
        "id": "qeZaa2sO90Ku",
        "outputId": "ddf94ad8-684a-4ee5-f9c6-795616799d98"
      },
      "source": [
        "from sklearn.ensemble import RandomForestClassifier\n",
        "clf = RandomForestClassifier(max_depth=2, random_state=0)\n",
        "clf.fit(X, Y)\n",
        "scores = cross_val_score(clf, X, Y, cv=5)\n",
        "print(\"%0.2f accuracy with a standard deviation of %0.2f\" % (scores.mean(), scores.std()))"
      ],
      "execution_count": null,
      "outputs": [
        {
          "output_type": "stream",
          "name": "stdout",
          "text": [
            "0.78 accuracy with a standard deviation of 0.04\n"
          ]
        }
      ]
    },
    {
      "cell_type": "code",
      "metadata": {
        "colab": {
          "base_uri": "https://localhost:8080/"
        },
        "id": "FTdt10Wd93fS",
        "outputId": "8ae369ab-54bd-4737-e061-1f5b6e7065d7"
      },
      "source": [
        "from sklearn.ensemble import ExtraTreesClassifier\n",
        "clf = ExtraTreesClassifier(n_estimators=100, random_state=0)\n",
        "clf.fit(X,Y)\n",
        "scores = cross_val_score(clf, X, Y, cv=5)\n",
        "print(\"%0.2f accuracy with a standard deviation of %0.2f\" % (scores.mean(), scores.std()))"
      ],
      "execution_count": null,
      "outputs": [
        {
          "output_type": "stream",
          "name": "stdout",
          "text": [
            "0.77 accuracy with a standard deviation of 0.04\n"
          ]
        }
      ]
    },
    {
      "cell_type": "code",
      "metadata": {
        "colab": {
          "base_uri": "https://localhost:8080/"
        },
        "id": "nUBuPMtt954k",
        "outputId": "cdca599b-057d-4076-ed97-3905ffa2c73f"
      },
      "source": [
        "from sklearn.ensemble import AdaBoostClassifier\n",
        "clf = AdaBoostClassifier(n_estimators=100, random_state=0)\n",
        "clf.fit(X, Y)\n",
        "scores = cross_val_score(clf, X, Y, cv=5)\n",
        "print(\"%0.2f accuracy with a standard deviation of %0.2f\" % (scores.mean(), scores.std()))"
      ],
      "execution_count": null,
      "outputs": [
        {
          "output_type": "stream",
          "name": "stdout",
          "text": [
            "0.72 accuracy with a standard deviation of 0.09\n"
          ]
        }
      ]
    },
    {
      "cell_type": "code",
      "metadata": {
        "colab": {
          "base_uri": "https://localhost:8080/"
        },
        "id": "6MwzET6y-KAh",
        "outputId": "fa54c5cb-abb3-495c-ac97-a3cd63cb66d2"
      },
      "source": [
        "from sklearn.ensemble import GradientBoostingClassifier\n",
        "clf = GradientBoostingClassifier(n_estimators=100, random_state=0)\n",
        "clf.fit(X,Y)\n",
        "scores = cross_val_score(clf, X, Y, cv=5)\n",
        "print(\"%0.2f accuracy with a standard deviation of %0.2f\" % (scores.mean(), scores.std()))"
      ],
      "execution_count": null,
      "outputs": [
        {
          "output_type": "stream",
          "name": "stdout",
          "text": [
            "0.78 accuracy with a standard deviation of 0.08\n"
          ]
        }
      ]
    },
    {
      "cell_type": "code",
      "metadata": {
        "colab": {
          "base_uri": "https://localhost:8080/"
        },
        "id": "_6vFcjnZ-NU9",
        "outputId": "d7ada5de-c1c3-4170-8942-9a959a821a58"
      },
      "source": [
        "from xgboost import XGBClassifier\n",
        "X.columns = X.columns.str.translate(\"\".maketrans({\"[\":\"{\", \"]\":\"}\",\"<\":\"^\"}))\n",
        "clf = XGBClassifier()\n",
        "clf.fit(X, Y)\n",
        "scores = cross_val_score(clf, X, Y, cv=5)\n",
        "print(\"%0.2f accuracy with a standard deviation of %0.2f\" % (scores.mean(), scores.std()))"
      ],
      "execution_count": null,
      "outputs": [
        {
          "output_type": "stream",
          "name": "stdout",
          "text": [
            "0.78 accuracy with a standard deviation of 0.08\n"
          ]
        }
      ]
    },
    {
      "cell_type": "markdown",
      "metadata": {
        "id": "98-GIi7vumU6"
      },
      "source": [
        "### 9) 2) Select the top 3 best performing classifiers. List them along with their mean and std scores. For these top 3 best performing classifiers, find the best hyperparameters using GridSearchCV.\n",
        "\n",
        "- Use estimator.get_params().keys() or the API description of the classifiers to find out which hyperparameters you can use. \n",
        "- Use the same scoring parameter ('f1') and use cv = 10 this time. \n",
        "- Print out the best_estimator_ and best_score_ results of your Grid Search\n",
        "- Use the following hyparparameter options if they fit for your top 3 classifiers:\n",
        "\n",
        "n_estimators = [300, 400, 500]\n",
        "\n",
        "learning_rate = [0.3, 0.1, 0.05]\n",
        "\n",
        "max_features =  [1, 0.5, 0.3]\n",
        "\n",
        "subsample = [1, 0.5, 0.3]\n",
        "\n",
        "max_samples = [1, 0.5, 0.3]\n",
        "\n",
        "bootstrap = [True,False]"
      ]
    },
    {
      "cell_type": "markdown",
      "metadata": {
        "id": "yGPdv8fU_2Gd"
      },
      "source": [
        "Support Vector Machine (kernel = 'linear' parameter)\n",
        ">0.79 accuracy with a standard deviation of 0.02\n",
        "\n"
      ]
    },
    {
      "cell_type": "markdown",
      "metadata": {
        "id": "QNPLmlZOAmdU"
      },
      "source": [
        "Logistic Regression\n",
        ">0.78 accuracy with a standard deviation of 0.02"
      ]
    },
    {
      "cell_type": "markdown",
      "metadata": {
        "id": "hUwxdVuRAu6w"
      },
      "source": [
        "RandomForestClassifier\n",
        ">0.78 accuracy with a standard deviation of 0.04"
      ]
    },
    {
      "cell_type": "markdown",
      "metadata": {
        "id": "YroqbsnYA4B1"
      },
      "source": [
        "I picked the above due to their high accuracy and low std dev."
      ]
    },
    {
      "cell_type": "code",
      "metadata": {
        "id": "I49e8t9Iu_Ho",
        "colab": {
          "base_uri": "https://localhost:8080/"
        },
        "outputId": "bfbdf314-48f3-4c0b-bd3a-fab51737a048"
      },
      "source": [
        "from sklearn.ensemble import RandomForestClassifier\n",
        "from sklearn.model_selection import GridSearchCV\n",
        "rfc=RandomForestClassifier(random_state=42)\n",
        "params = {'n_estimators': [300, 400, 500], 'max_features': [1, 0.5, 0.3], 'max_samples':[1, 0.5, 0.3], 'bootstrap': [True, False]}\n",
        "print(rfc.get_params())\n",
        "grid_search = GridSearchCV(estimator = rfc, param_grid = params, cv = 3, n_jobs = -1, verbose = 2)\n",
        "grid_search.fit(X_train, Y_train)\n",
        "rfc_best_esti = grid_search.best_estimator_\n",
        "rfc_score = grid_search.best_score_\n",
        "print('Best score: ', rfc_score)\n",
        "print('Best estimator: ', rfc_best_esti)"
      ],
      "execution_count": null,
      "outputs": [
        {
          "output_type": "stream",
          "name": "stdout",
          "text": [
            "{'bootstrap': True, 'ccp_alpha': 0.0, 'class_weight': None, 'criterion': 'gini', 'max_depth': None, 'max_features': 'auto', 'max_leaf_nodes': None, 'max_samples': None, 'min_impurity_decrease': 0.0, 'min_impurity_split': None, 'min_samples_leaf': 1, 'min_samples_split': 2, 'min_weight_fraction_leaf': 0.0, 'n_estimators': 100, 'n_jobs': None, 'oob_score': False, 'random_state': 42, 'verbose': 0, 'warm_start': False}\n",
            "Fitting 3 folds for each of 54 candidates, totalling 162 fits\n"
          ]
        },
        {
          "output_type": "stream",
          "name": "stderr",
          "text": [
            "[Parallel(n_jobs=-1)]: Using backend LokyBackend with 2 concurrent workers.\n",
            "[Parallel(n_jobs=-1)]: Done  37 tasks      | elapsed:   20.3s\n",
            "[Parallel(n_jobs=-1)]: Done 158 tasks      | elapsed:  1.4min\n",
            "[Parallel(n_jobs=-1)]: Done 162 out of 162 | elapsed:  1.5min finished\n"
          ]
        },
        {
          "output_type": "stream",
          "name": "stdout",
          "text": [
            "Best score:  0.8080808080808081\n",
            "Best estimator:  RandomForestClassifier(bootstrap=True, ccp_alpha=0.0, class_weight=None,\n",
            "                       criterion='gini', max_depth=None, max_features=0.3,\n",
            "                       max_leaf_nodes=None, max_samples=0.3,\n",
            "                       min_impurity_decrease=0.0, min_impurity_split=None,\n",
            "                       min_samples_leaf=1, min_samples_split=2,\n",
            "                       min_weight_fraction_leaf=0.0, n_estimators=400,\n",
            "                       n_jobs=None, oob_score=False, random_state=42, verbose=0,\n",
            "                       warm_start=False)\n"
          ]
        }
      ]
    },
    {
      "cell_type": "code",
      "metadata": {
        "colab": {
          "base_uri": "https://localhost:8080/"
        },
        "id": "3lTwNMfxB9I8",
        "outputId": "6bfc512e-ca2f-49b9-f73f-a8c2a55adad2"
      },
      "source": [
        "from sklearn import svm\n",
        "model = svm.SVC(kernel='linear', probability=True)\n",
        "params = {}\n",
        "print(model.get_params())\n",
        "grid_search = GridSearchCV(estimator = model, param_grid = params, cv = 3, n_jobs = -1, verbose = 2)\n",
        "grid_search.fit(X_train, Y_train)\n",
        "svc_best_esti = grid_search.best_estimator_\n",
        "svc_score = grid_search.best_score_\n",
        "print('Best score: ', svc_score)\n",
        "print('Best estimator: ', svc_best_esti)"
      ],
      "execution_count": null,
      "outputs": [
        {
          "output_type": "stream",
          "name": "stdout",
          "text": [
            "{'C': 1.0, 'break_ties': False, 'cache_size': 200, 'class_weight': None, 'coef0': 0.0, 'decision_function_shape': 'ovr', 'degree': 3, 'gamma': 'scale', 'kernel': 'linear', 'max_iter': -1, 'probability': True, 'random_state': None, 'shrinking': True, 'tol': 0.001, 'verbose': False}\n",
            "Fitting 3 folds for each of 1 candidates, totalling 3 fits\n"
          ]
        },
        {
          "output_type": "stream",
          "name": "stderr",
          "text": [
            "[Parallel(n_jobs=-1)]: Using backend LokyBackend with 2 concurrent workers.\n",
            "[Parallel(n_jobs=-1)]: Done   3 out of   3 | elapsed:  4.2min finished\n"
          ]
        },
        {
          "output_type": "stream",
          "name": "stdout",
          "text": [
            "Best score:  0.7856341189674523\n",
            "Best estimator:  SVC(C=1.0, break_ties=False, cache_size=200, class_weight=None, coef0=0.0,\n",
            "    decision_function_shape='ovr', degree=3, gamma='scale', kernel='linear',\n",
            "    max_iter=-1, probability=True, random_state=None, shrinking=True, tol=0.001,\n",
            "    verbose=False)\n"
          ]
        }
      ]
    },
    {
      "cell_type": "code",
      "metadata": {
        "colab": {
          "base_uri": "https://localhost:8080/"
        },
        "id": "9tZkN_bnCOB0",
        "outputId": "8e12ab5e-8015-4f33-c7f6-2b23754eb412"
      },
      "source": [
        "from xgboost import XGBClassifier\n",
        "X.columns = X.columns.str.translate(\"\".maketrans({\"[\":\"{\", \"]\":\"}\",\"<\":\"^\"}))\n",
        "kgb = XGBClassifier()\n",
        "params = {'n_estimators': [300, 400, 500], 'learning_rate': [0.3, 0.1, 0.05]}\n",
        "print(kgb.get_params())\n",
        "grid_search = GridSearchCV(estimator = kgb, param_grid = params, cv = 3, n_jobs = -1, verbose = 2)\n",
        "grid_search.fit(X_train, Y_train)\n",
        "kgb_best_esti = grid_search.best_estimator_\n",
        "kgb_score = grid_search.best_score_\n",
        "print('Best score: ', kgb_score)\n",
        "print('Best estimator: ', kgb_best_esti)"
      ],
      "execution_count": null,
      "outputs": [
        {
          "output_type": "stream",
          "name": "stdout",
          "text": [
            "{'base_score': 0.5, 'booster': 'gbtree', 'colsample_bylevel': 1, 'colsample_bynode': 1, 'colsample_bytree': 1, 'gamma': 0, 'learning_rate': 0.1, 'max_delta_step': 0, 'max_depth': 3, 'min_child_weight': 1, 'missing': None, 'n_estimators': 100, 'n_jobs': 1, 'nthread': None, 'objective': 'binary:logistic', 'random_state': 0, 'reg_alpha': 0, 'reg_lambda': 1, 'scale_pos_weight': 1, 'seed': None, 'silent': None, 'subsample': 1, 'verbosity': 1}\n",
            "Fitting 3 folds for each of 9 candidates, totalling 27 fits\n"
          ]
        },
        {
          "output_type": "stream",
          "name": "stderr",
          "text": [
            "[Parallel(n_jobs=-1)]: Using backend LokyBackend with 2 concurrent workers.\n",
            "[Parallel(n_jobs=-1)]: Done  27 out of  27 | elapsed:    3.8s finished\n"
          ]
        },
        {
          "output_type": "stream",
          "name": "stdout",
          "text": [
            "Best score:  0.6543209876543211\n",
            "Best estimator:  XGBClassifier(base_score=0.5, booster='gbtree', colsample_bylevel=1,\n",
            "              colsample_bynode=1, colsample_bytree=1, gamma=0,\n",
            "              learning_rate=0.3, max_delta_step=0, max_depth=3,\n",
            "              min_child_weight=1, missing=None, n_estimators=500, n_jobs=1,\n",
            "              nthread=None, objective='binary:logistic', random_state=0,\n",
            "              reg_alpha=0, reg_lambda=1, scale_pos_weight=1, seed=None,\n",
            "              silent=None, subsample=1, verbosity=1)\n"
          ]
        }
      ]
    },
    {
      "cell_type": "markdown",
      "metadata": {
        "id": "Q1rf2O7pu_q8"
      },
      "source": [
        "### 9) 3) Use VotingClassifier of sklearn to create an ensemble learner that utilizes the top 3 estimators you found above. Set the voting parameter to 'soft'. Use cross_val_score to calculate its score and print out its mean and std values. The following page might be useful:\n",
        "\n",
        "Kaggl Titanic: A Machine Learning from Disaster | Modelling Part 2: \n",
        "https://www.codementor.io/@innat_2k14/kaggl-titanic-a-machine-learning-from-disaster-modelling-part-2-10gfjtm0p3\n"
      ]
    },
    {
      "cell_type": "code",
      "metadata": {
        "id": "0WukqonzvLfN",
        "colab": {
          "base_uri": "https://localhost:8080/"
        },
        "outputId": "11c4d5c4-072c-4f50-c0e0-c054e274a7b5"
      },
      "source": [
        "from sklearn.ensemble import VotingClassifier\n",
        "VotingPredictor = VotingClassifier(estimators = [('rfc', rfc_best_esti), ('xgb', kgb_best_esti), ('svc', svc_best_esti)], voting='soft', n_jobs = 4)\n",
        "VotingPredictor = VotingPredictor.fit(X_train, Y_train)\n",
        "scores = cross_val_score(VotingPredictor, X_train, Y_train, cv = 5, n_jobs = 4, scoring = 'accuracy')\n",
        "print(scores)\n",
        "print(round(np.mean(scores)*100, 2))"
      ],
      "execution_count": null,
      "outputs": [
        {
          "output_type": "stream",
          "name": "stdout",
          "text": [
            "[0.73743017 0.80898876 0.85393258 0.80337079 0.83707865]\n",
            "80.82\n"
          ]
        }
      ]
    },
    {
      "cell_type": "markdown",
      "metadata": {
        "id": "UWAeWQa4vL4W"
      },
      "source": [
        "### 9) 4) Use the VotingClassifier you created above to predict 'Survived' for the X_test."
      ]
    },
    {
      "cell_type": "code",
      "metadata": {
        "colab": {
          "base_uri": "https://localhost:8080/",
          "height": 204
        },
        "id": "k2oeqZaFKZkh",
        "outputId": "2e9d8735-4f24-4e30-c8f9-4660ec7a2e53"
      },
      "source": [
        "TestPassengerID = X_test['PassengerId']\n",
        "X_test.columns = X_test.columns.str.translate(\"\".maketrans({\"[\":\"{\", \"]\":\"}\",\"<\":\"^\"}))\n",
        "Predictive_Model = pd.DataFrame({'PassengerId': TestPassengerID, 'Survived': VotingPredictor.predict(X_test)})\n",
        "Predictive_Model.head()"
      ],
      "execution_count": null,
      "outputs": [
        {
          "output_type": "execute_result",
          "data": {
            "text/html": [
              "<div>\n",
              "<style scoped>\n",
              "    .dataframe tbody tr th:only-of-type {\n",
              "        vertical-align: middle;\n",
              "    }\n",
              "\n",
              "    .dataframe tbody tr th {\n",
              "        vertical-align: top;\n",
              "    }\n",
              "\n",
              "    .dataframe thead th {\n",
              "        text-align: right;\n",
              "    }\n",
              "</style>\n",
              "<table border=\"1\" class=\"dataframe\">\n",
              "  <thead>\n",
              "    <tr style=\"text-align: right;\">\n",
              "      <th></th>\n",
              "      <th>PassengerId</th>\n",
              "      <th>Survived</th>\n",
              "    </tr>\n",
              "  </thead>\n",
              "  <tbody>\n",
              "    <tr>\n",
              "      <th>891</th>\n",
              "      <td>892</td>\n",
              "      <td>0.0</td>\n",
              "    </tr>\n",
              "    <tr>\n",
              "      <th>892</th>\n",
              "      <td>893</td>\n",
              "      <td>0.0</td>\n",
              "    </tr>\n",
              "    <tr>\n",
              "      <th>893</th>\n",
              "      <td>894</td>\n",
              "      <td>0.0</td>\n",
              "    </tr>\n",
              "    <tr>\n",
              "      <th>894</th>\n",
              "      <td>895</td>\n",
              "      <td>0.0</td>\n",
              "    </tr>\n",
              "    <tr>\n",
              "      <th>895</th>\n",
              "      <td>896</td>\n",
              "      <td>1.0</td>\n",
              "    </tr>\n",
              "  </tbody>\n",
              "</table>\n",
              "</div>"
            ],
            "text/plain": [
              "     PassengerId  Survived\n",
              "891          892       0.0\n",
              "892          893       0.0\n",
              "893          894       0.0\n",
              "894          895       0.0\n",
              "895          896       1.0"
            ]
          },
          "metadata": {},
          "execution_count": 85
        }
      ]
    },
    {
      "cell_type": "markdown",
      "metadata": {
        "id": "lMiPVi-WvSVr"
      },
      "source": [
        "### 9) 5) Prepare a csv file to submit to kaggle.com. Submit it and then put your results here. You can put the screenshot of your score here. Even if your score is not good, you will get full points as long as you show that you submitted your solution.\n",
        "![image.png](data:image/png;base64,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)"
      ]
    },
    {
      "cell_type": "code",
      "metadata": {
        "id": "YPAitIFTvUe6"
      },
      "source": [
        "Predictive_Model.to_csv('titanicKaggle.csv', index=False)"
      ],
      "execution_count": null,
      "outputs": []
    },
    {
      "cell_type": "markdown",
      "metadata": {
        "id": "UQDAhm3XveqE"
      },
      "source": [
        "### 9) 6) Think of what you can do extra to improve your results. You can suggest new cleaning methods, new features, new hyperparameters, new models, etc. In short, you can suggest anything to improve the results. Describe the rationale behind your suggestions. Be specific, a general suggesstion like 'do more feature engineering' or 'have better hyperparameters' is not accepted. Have three suggestions to get the full point."
      ]
    },
    {
      "cell_type": "markdown",
      "metadata": {
        "id": "3hisD2rJQ6Wp"
      },
      "source": [
        "1) I think the algorithms took too long to run showing that i could of made a more efficient way of using the algorithms\n",
        "2) by choosing different top 3 classifiers and instead of picking by top 3 most accurate i could try top 3 with the least std div\n",
        "3) instead of picking and choosing different classsfiers i could of used all of them"
      ]
    },
    {
      "cell_type": "markdown",
      "metadata": {
        "id": "ksTHzmwyvm2q"
      },
      "source": [
        "### 9) 7) (Bonus) Implement those idea(s) and then make another submission. Put the screenshot of your new score here."
      ]
    },
    {
      "cell_type": "code",
      "metadata": {
        "id": "-y93RqFNvpH5"
      },
      "source": [
        ""
      ],
      "execution_count": null,
      "outputs": []
    },
    {
      "cell_type": "markdown",
      "metadata": {
        "id": "MrMOFPQGwV2c"
      },
      "source": [
        "### 9) 8) (Extra Bonus) If you have more great ideas (more than the three described above), describe them with their rationale here. Describe at least two ideas to get the full extra bonus points"
      ]
    },
    {
      "cell_type": "code",
      "metadata": {
        "id": "EE4EBLwF34b9"
      },
      "source": [
        ""
      ],
      "execution_count": null,
      "outputs": []
    },
    {
      "cell_type": "markdown",
      "metadata": {
        "id": "5DyxLbxa342l"
      },
      "source": [
        "### 9) 9) (Extra Extra Bonus) Implement your ideas described for the previous question, make another submission and then put your results here. Your idea does not have to perform better. Just explain why you thought it might perform better."
      ]
    },
    {
      "cell_type": "code",
      "metadata": {
        "id": "14YlroCl4KPs"
      },
      "source": [
        ""
      ],
      "execution_count": null,
      "outputs": []
    },
    {
      "cell_type": "markdown",
      "metadata": {
        "id": "PREaDdFr51KF"
      },
      "source": [
        "## 10) Run all of your code and get your output"
      ]
    },
    {
      "cell_type": "markdown",
      "metadata": {
        "id": "EZqPv7sJW4I-"
      },
      "source": [
        "## 11) Print the latest status of your notebook to a pdf file \n",
        "- DO NOT FORGET: The pdf file __must include the link of your jupyter notebook page__ (see step 2 above)"
      ]
    },
    {
      "cell_type": "markdown",
      "metadata": {
        "id": "btIwxd5pW_Jx"
      },
      "source": [
        "## 12) __Submit the PDF__ file on Canvas"
      ]
    }
  ]
}